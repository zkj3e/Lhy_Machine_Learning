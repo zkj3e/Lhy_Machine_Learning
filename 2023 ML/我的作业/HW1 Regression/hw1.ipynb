{
 "cells": [
  {
   "cell_type": "markdown",
   "metadata": {},
   "source": [
    "下载数据"
   ]
  },
  {
   "cell_type": "code",
   "execution_count": 1,
   "metadata": {},
   "outputs": [
    {
     "name": "stdout",
     "output_type": "stream",
     "text": [
      "/opt/anaconda3/lib/python3.11/site-packages/gdown/__main__.py:140: FutureWarning: Option `--id` was deprecated in version 4.3.1 and will be removed in 5.0. You don't need to pass it anymore to use a file ID.\n",
      "  warnings.warn(\n",
      "Downloading...\n",
      "From: https://drive.google.com/uc?id=1BjXalPZxq9mybPKNjF3h5L3NcF7XKTS-\n",
      "To: /Volumes/zkj/personal/ml/lhy/Lhy_Machine_Learning/2023 ML/我的作页/HW1 Regression/covid_train.csv\n",
      "100%|██████████████████████████████████████| 2.16M/2.16M [00:00<00:00, 5.67MB/s]\n",
      "/opt/anaconda3/lib/python3.11/site-packages/gdown/__main__.py:140: FutureWarning: Option `--id` was deprecated in version 4.3.1 and will be removed in 5.0. You don't need to pass it anymore to use a file ID.\n",
      "  warnings.warn(\n",
      "Downloading...\n",
      "From: https://drive.google.com/uc?id=1B55t74Jg2E5FCsKCsUEkPKIuqaY7UIi1\n",
      "To: /Volumes/zkj/personal/ml/lhy/Lhy_Machine_Learning/2023 ML/我的作页/HW1 Regression/covid_test.csv\n",
      "100%|████████████████████████████████████████| 638k/638k [00:00<00:00, 2.44MB/s]\n"
     ]
    }
   ],
   "source": [
    "# google drive link\n",
    "!gdown --id '1BjXalPZxq9mybPKNjF3h5L3NcF7XKTS-' --output covid_train.csv\n",
    "!gdown --id '1B55t74Jg2E5FCsKCsUEkPKIuqaY7UIi1' --output covid_test.csv\n",
    "\n",
    "# dropbox link\n",
    "#!wget -O covid_train.csv https://www.dropbox.com/s/lmy1riadzoy0ahw/covid.train.csv?dl=0\n",
    "#!wget -O covid_test.csv https://www.dropbox.com/s/zalbw42lu4nmhr2/covid.test.csv?dl=0"
   ]
  },
  {
   "cell_type": "markdown",
   "metadata": {},
   "source": [
    "Import packages"
   ]
  },
  {
   "cell_type": "code",
   "execution_count": 11,
   "metadata": {},
   "outputs": [],
   "source": [
    "import pandas as pd\n",
    "import numpy as np\n",
    "\n",
    "import os\n",
    "import math\n",
    "\n",
    "from tqdm import tqdm\n",
    "import csv\n",
    "\n",
    "import torch \n",
    "import torch.nn as nn\n",
    "from torch.utils.data import Dataset, DataLoader, random_split\n",
    "from torch.utils.tensorboard import SummaryWriter"
   ]
  },
  {
   "cell_type": "markdown",
   "metadata": {},
   "source": [
    "Config"
   ]
  },
  {
   "cell_type": "code",
   "execution_count": 3,
   "metadata": {},
   "outputs": [],
   "source": [
    "device = 'cuda' if torch.cuda.is_available() else 'cpu'\n",
    "config = {\n",
    "    'seed': 5201314,      # Your seed number, you can pick your lucky number. :)\n",
    "    'select_all': True,   # Whether to use all features.\n",
    "    'valid_ratio': 0.2,   # validation_size = train_size * valid_ratio\n",
    "    'n_epochs': 5000,     # Number of epochs.            \n",
    "    'batch_size': 256, \n",
    "    'learning_rate': 1e-5,              \n",
    "    'early_stop': 600,    # If model has not improved for this many consecutive epochs, stop training.     \n",
    "    'save_path': './models/model.ckpt'  # Your model will be saved here.\n",
    "}\n",
    "\n",
    "\n"
   ]
  },
  {
   "cell_type": "markdown",
   "metadata": {},
   "source": [
    "utils"
   ]
  },
  {
   "cell_type": "code",
   "execution_count": 4,
   "metadata": {},
   "outputs": [],
   "source": [
    "def same_seed(seed):\n",
    "    torch.backends.cudnn.deterministic = True\n",
    "    torch.backends.cudnn.benchmark = False\n",
    "    np.random.seed(seed)\n",
    "    torch.manual_seed(seed)\n",
    "    if torch.cuda.is_available():\n",
    "        torch.cuda.manual_seed_all(seed)\n"
   ]
  },
  {
   "cell_type": "markdown",
   "metadata": {},
   "source": [
    "数据集类\n"
   ]
  },
  {
   "cell_type": "code",
   "execution_count": 5,
   "metadata": {},
   "outputs": [],
   "source": [
    "class COVID19Dataset(Dataset):\n",
    "    def __init__(self, x, y=None):\n",
    "        if y is None:\n",
    "            self.y = y\n",
    "        else:\n",
    "            self.y = torch.FloatTensor(y)\n",
    "        self.x = torch.FloatTensor(x)\n",
    "\n",
    "    def __len__(self):\n",
    "        return len(self.x)\n",
    "    \n",
    "    def __getitem__(self, idx):\n",
    "        if self.y is not None:\n",
    "            return self.x[idx], self.y[idx]\n",
    "        else:\n",
    "            return self.x[idx]\n",
    "    \n",
    "    \n",
    "def train_valid_split(data_set, valid_ratio, seed):\n",
    "    valid_set_size = int(valid_ratio * len(data_set)) \n",
    "    train_set_size = len(data_set) - valid_set_size\n",
    "    train_set, valid_set = random_split(data_set, [train_set_size, valid_set_size], generator=torch.Generator().manual_seed(seed))\n",
    "\n",
    "    return np.array(train_set), np.array(valid_set)"
   ]
  },
  {
   "cell_type": "markdown",
   "metadata": {},
   "source": [
    "dataLoader\n",
    "\n",
    "\n",
    "一个Epoch\n",
    "├── Batch 1 (样本1-32)\n",
    "├── Batch 2 (样本33-64)\n",
    "├── ...\n",
    "└── Batch n (样本...-N)"
   ]
  },
  {
   "cell_type": "code",
   "execution_count": 30,
   "metadata": {},
   "outputs": [
    {
     "name": "stdout",
     "output_type": "stream",
     "text": [
      "train_data size: (2408, 89) \n",
      "valid_data size: (601, 89) \n",
      "test_data size: (997, 88)\n",
      "y_train size: (2408,) \n",
      "y_valid size: (601,) \n",
      "x_train size: (2408, 88) \n",
      "      x_test size: (997, 88) \n",
      "x_vaild size: (601, 88) \n"
     ]
    }
   ],
   "source": [
    "train_data, test_data = pd.read_csv('./covid_train.csv').values, pd.read_csv('./covid_test.csv').values\n",
    "train_data, valid_data = train_valid_split(train_data, config['valid_ratio'], config['seed'])\n",
    "\n",
    "# Print out the data size.\n",
    "print(f\"\"\"train_data size: {train_data.shape} \n",
    "valid_data size: {valid_data.shape} \n",
    "test_data size: {test_data.shape}\"\"\")\n",
    "\n",
    "y_train, y_valid = train_data[:,-1], valid_data[:,-1]\n",
    "x_train, x_valid, x_test = train_data[:, :-1], valid_data[:, :-1], test_data[:, :]\n",
    "\n",
    "print(f\"\"\"y_train size: {y_train.shape} \n",
    "y_valid size: {y_valid.shape} \"\"\")\n",
    "\n",
    "print(f\"\"\"x_train size: {x_train.shape} \n",
    "      x_test size: {x_test.shape} \n",
    "x_vaild size: {x_valid.shape} \"\"\")\n",
    "\n",
    "train_dataset, valid_dataset, test_dataset = COVID19Dataset(x_train, y_train), \\\n",
    "                                            COVID19Dataset(x_valid, y_valid), \\\n",
    "                                            COVID19Dataset(x_test)\n",
    "\n",
    "train_loader = DataLoader(train_dataset, batch_size=config['batch_size'], shuffle=True, pin_memory=True)\n",
    "valid_loader = DataLoader(valid_dataset, batch_size=config['batch_size'], shuffle=True, pin_memory=True)\n",
    "test_loader = DataLoader(test_dataset, batch_size=config['batch_size'], shuffle=False, pin_memory=True)"
   ]
  },
  {
   "cell_type": "markdown",
   "metadata": {},
   "source": [
    "模型"
   ]
  },
  {
   "cell_type": "code",
   "execution_count": 7,
   "metadata": {},
   "outputs": [],
   "source": [
    "class My_Model(nn.Module):\n",
    "    def __init__(self, input_dim):\n",
    "        super(My_Model, self).__init__()\n",
    "        self.layers = nn.Sequential(\n",
    "            nn.Linear(input_dim, 16),  # 第一层全连接\n",
    "            nn.ReLU(),                 # 激活函数\n",
    "            nn.Linear(16, 8),          # 第二层全连接\n",
    "            nn.ReLU(),                 # 激活函数\n",
    "            nn.Linear(8, 1)            # 输出层\n",
    "        )\n",
    "\n",
    "    def forward(self, x):\n",
    "        x = self.layers(x)\n",
    "        x = x.squeeze(1)\n",
    "        return x"
   ]
  },
  {
   "cell_type": "markdown",
   "metadata": {},
   "source": [
    "训练"
   ]
  },
  {
   "cell_type": "code",
   "execution_count": 20,
   "metadata": {},
   "outputs": [
    {
     "name": "stdout",
     "output_type": "stream",
     "text": [
      "Epoch [4638/5000]: Train loss: 1.6422, Valid loss: 1.3720\n"
     ]
    },
    {
     "name": "stderr",
     "output_type": "stream",
     "text": [
      "Epoch [4639/5000]:   0%|          | 0/10 [00:00<?, ?it/s, loss=1.18]"
     ]
    },
    {
     "name": "stderr",
     "output_type": "stream",
     "text": [
      "                                                                    \r"
     ]
    },
    {
     "name": "stdout",
     "output_type": "stream",
     "text": [
      "Epoch [4639/5000]: Train loss: 1.5068, Valid loss: 2.3663\n"
     ]
    },
    {
     "name": "stderr",
     "output_type": "stream",
     "text": [
      "                                                                    \r"
     ]
    },
    {
     "name": "stdout",
     "output_type": "stream",
     "text": [
      "Epoch [4640/5000]: Train loss: 1.7943, Valid loss: 1.7365\n"
     ]
    },
    {
     "name": "stderr",
     "output_type": "stream",
     "text": [
      "                                                                    \r"
     ]
    },
    {
     "name": "stdout",
     "output_type": "stream",
     "text": [
      "Epoch [4641/5000]: Train loss: 1.4104, Valid loss: 1.6034\n"
     ]
    },
    {
     "name": "stderr",
     "output_type": "stream",
     "text": [
      "                                                                    \r"
     ]
    },
    {
     "name": "stdout",
     "output_type": "stream",
     "text": [
      "Epoch [4642/5000]: Train loss: 1.8023, Valid loss: 1.7256\n"
     ]
    },
    {
     "name": "stderr",
     "output_type": "stream",
     "text": [
      "                                                                     \r"
     ]
    },
    {
     "name": "stdout",
     "output_type": "stream",
     "text": [
      "Epoch [4643/5000]: Train loss: 1.3251, Valid loss: 1.3603\n"
     ]
    },
    {
     "name": "stderr",
     "output_type": "stream",
     "text": [
      "                                                                    \r"
     ]
    },
    {
     "name": "stdout",
     "output_type": "stream",
     "text": [
      "Epoch [4644/5000]: Train loss: 1.2942, Valid loss: 1.2701\n"
     ]
    },
    {
     "name": "stderr",
     "output_type": "stream",
     "text": [
      "                                                                    \r"
     ]
    },
    {
     "name": "stdout",
     "output_type": "stream",
     "text": [
      "Epoch [4645/5000]: Train loss: 2.1117, Valid loss: 2.5607\n"
     ]
    },
    {
     "name": "stderr",
     "output_type": "stream",
     "text": [
      "                                                                    \r"
     ]
    },
    {
     "name": "stdout",
     "output_type": "stream",
     "text": [
      "Epoch [4646/5000]: Train loss: 1.6813, Valid loss: 2.3730\n"
     ]
    },
    {
     "name": "stderr",
     "output_type": "stream",
     "text": [
      "                                                                    \r"
     ]
    },
    {
     "name": "stdout",
     "output_type": "stream",
     "text": [
      "Epoch [4647/5000]: Train loss: 1.6996, Valid loss: 1.2450\n"
     ]
    },
    {
     "name": "stderr",
     "output_type": "stream",
     "text": [
      "                                                                    \r"
     ]
    },
    {
     "name": "stdout",
     "output_type": "stream",
     "text": [
      "Epoch [4648/5000]: Train loss: 1.5755, Valid loss: 1.3063\n"
     ]
    },
    {
     "name": "stderr",
     "output_type": "stream",
     "text": [
      "                                                                    \r"
     ]
    },
    {
     "name": "stdout",
     "output_type": "stream",
     "text": [
      "Epoch [4649/5000]: Train loss: 1.3608, Valid loss: 1.3079\n"
     ]
    },
    {
     "name": "stderr",
     "output_type": "stream",
     "text": [
      "                                                                    \r"
     ]
    },
    {
     "name": "stdout",
     "output_type": "stream",
     "text": [
      "Epoch [4650/5000]: Train loss: 1.4055, Valid loss: 1.7126\n"
     ]
    },
    {
     "name": "stderr",
     "output_type": "stream",
     "text": [
      "                                                                    \r"
     ]
    },
    {
     "name": "stdout",
     "output_type": "stream",
     "text": [
      "Epoch [4651/5000]: Train loss: 1.8698, Valid loss: 1.3562\n"
     ]
    },
    {
     "name": "stderr",
     "output_type": "stream",
     "text": [
      "                                                                    \r"
     ]
    },
    {
     "name": "stdout",
     "output_type": "stream",
     "text": [
      "Epoch [4652/5000]: Train loss: 1.3812, Valid loss: 1.7024\n"
     ]
    },
    {
     "name": "stderr",
     "output_type": "stream",
     "text": [
      "                                                                    \r"
     ]
    },
    {
     "name": "stdout",
     "output_type": "stream",
     "text": [
      "Epoch [4653/5000]: Train loss: 1.6218, Valid loss: 1.4538\n"
     ]
    },
    {
     "name": "stderr",
     "output_type": "stream",
     "text": [
      "                                                                    \r"
     ]
    },
    {
     "name": "stdout",
     "output_type": "stream",
     "text": [
      "Epoch [4654/5000]: Train loss: 1.5315, Valid loss: 2.1506\n"
     ]
    },
    {
     "name": "stderr",
     "output_type": "stream",
     "text": [
      "                                                                    \r"
     ]
    },
    {
     "name": "stdout",
     "output_type": "stream",
     "text": [
      "Epoch [4655/5000]: Train loss: 2.2546, Valid loss: 1.6145\n"
     ]
    },
    {
     "name": "stderr",
     "output_type": "stream",
     "text": [
      "                                                                    \r"
     ]
    },
    {
     "name": "stdout",
     "output_type": "stream",
     "text": [
      "Epoch [4656/5000]: Train loss: 1.5035, Valid loss: 1.3893\n"
     ]
    },
    {
     "name": "stderr",
     "output_type": "stream",
     "text": [
      "                                                                    \r"
     ]
    },
    {
     "name": "stdout",
     "output_type": "stream",
     "text": [
      "Epoch [4657/5000]: Train loss: 1.5298, Valid loss: 1.3620\n"
     ]
    },
    {
     "name": "stderr",
     "output_type": "stream",
     "text": [
      "                                                                    \r"
     ]
    },
    {
     "name": "stdout",
     "output_type": "stream",
     "text": [
      "Epoch [4658/5000]: Train loss: 1.4859, Valid loss: 1.3828\n"
     ]
    },
    {
     "name": "stderr",
     "output_type": "stream",
     "text": [
      "                                                                    \r"
     ]
    },
    {
     "name": "stdout",
     "output_type": "stream",
     "text": [
      "Epoch [4659/5000]: Train loss: 1.4160, Valid loss: 1.9280\n"
     ]
    },
    {
     "name": "stderr",
     "output_type": "stream",
     "text": [
      "                                                                    \r"
     ]
    },
    {
     "name": "stdout",
     "output_type": "stream",
     "text": [
      "Epoch [4660/5000]: Train loss: 1.9900, Valid loss: 3.5149\n"
     ]
    },
    {
     "name": "stderr",
     "output_type": "stream",
     "text": [
      "                                                                    \r"
     ]
    },
    {
     "name": "stdout",
     "output_type": "stream",
     "text": [
      "Epoch [4661/5000]: Train loss: 1.9053, Valid loss: 2.7212\n"
     ]
    },
    {
     "name": "stderr",
     "output_type": "stream",
     "text": [
      "                                                                    \r"
     ]
    },
    {
     "name": "stdout",
     "output_type": "stream",
     "text": [
      "Epoch [4662/5000]: Train loss: 1.5507, Valid loss: 1.6254\n"
     ]
    },
    {
     "name": "stderr",
     "output_type": "stream",
     "text": [
      "                                                                    \r"
     ]
    },
    {
     "name": "stdout",
     "output_type": "stream",
     "text": [
      "Epoch [4663/5000]: Train loss: 1.3800, Valid loss: 1.8440\n"
     ]
    },
    {
     "name": "stderr",
     "output_type": "stream",
     "text": [
      "                                                                    \r"
     ]
    },
    {
     "name": "stdout",
     "output_type": "stream",
     "text": [
      "Epoch [4664/5000]: Train loss: 1.5757, Valid loss: 2.2976\n"
     ]
    },
    {
     "name": "stderr",
     "output_type": "stream",
     "text": [
      "                                                                     \r"
     ]
    },
    {
     "name": "stdout",
     "output_type": "stream",
     "text": [
      "Epoch [4665/5000]: Train loss: 1.7307, Valid loss: 1.3600\n"
     ]
    },
    {
     "name": "stderr",
     "output_type": "stream",
     "text": [
      "                                                                    \r"
     ]
    },
    {
     "name": "stdout",
     "output_type": "stream",
     "text": [
      "Epoch [4666/5000]: Train loss: 1.4374, Valid loss: 1.4251\n"
     ]
    },
    {
     "name": "stderr",
     "output_type": "stream",
     "text": [
      "                                                                    \r"
     ]
    },
    {
     "name": "stdout",
     "output_type": "stream",
     "text": [
      "Epoch [4667/5000]: Train loss: 1.5465, Valid loss: 1.9665\n"
     ]
    },
    {
     "name": "stderr",
     "output_type": "stream",
     "text": [
      "                                                                    \r"
     ]
    },
    {
     "name": "stdout",
     "output_type": "stream",
     "text": [
      "Epoch [4668/5000]: Train loss: 1.8188, Valid loss: 1.5121\n"
     ]
    },
    {
     "name": "stderr",
     "output_type": "stream",
     "text": [
      "                                                                    \r"
     ]
    },
    {
     "name": "stdout",
     "output_type": "stream",
     "text": [
      "Epoch [4669/5000]: Train loss: 1.3276, Valid loss: 1.4264\n"
     ]
    },
    {
     "name": "stderr",
     "output_type": "stream",
     "text": [
      "                                                                     \r"
     ]
    },
    {
     "name": "stdout",
     "output_type": "stream",
     "text": [
      "Epoch [4670/5000]: Train loss: 1.3093, Valid loss: 1.3923\n"
     ]
    },
    {
     "name": "stderr",
     "output_type": "stream",
     "text": [
      "                                                                    \r"
     ]
    },
    {
     "name": "stdout",
     "output_type": "stream",
     "text": [
      "Epoch [4671/5000]: Train loss: 1.8298, Valid loss: 5.1537\n"
     ]
    },
    {
     "name": "stderr",
     "output_type": "stream",
     "text": [
      "                                                                    \r"
     ]
    },
    {
     "name": "stdout",
     "output_type": "stream",
     "text": [
      "Epoch [4672/5000]: Train loss: 2.5773, Valid loss: 1.3468\n"
     ]
    },
    {
     "name": "stderr",
     "output_type": "stream",
     "text": [
      "                                                                    \r"
     ]
    },
    {
     "name": "stdout",
     "output_type": "stream",
     "text": [
      "Epoch [4673/5000]: Train loss: 1.7703, Valid loss: 2.6711\n"
     ]
    },
    {
     "name": "stderr",
     "output_type": "stream",
     "text": [
      "                                                                    \r"
     ]
    },
    {
     "name": "stdout",
     "output_type": "stream",
     "text": [
      "Epoch [4674/5000]: Train loss: 2.1037, Valid loss: 1.4308\n"
     ]
    },
    {
     "name": "stderr",
     "output_type": "stream",
     "text": [
      "                                                                    \r"
     ]
    },
    {
     "name": "stdout",
     "output_type": "stream",
     "text": [
      "Epoch [4675/5000]: Train loss: 1.4232, Valid loss: 1.5905\n"
     ]
    },
    {
     "name": "stderr",
     "output_type": "stream",
     "text": [
      "                                                                    \r"
     ]
    },
    {
     "name": "stdout",
     "output_type": "stream",
     "text": [
      "Epoch [4676/5000]: Train loss: 1.4256, Valid loss: 2.0272\n"
     ]
    },
    {
     "name": "stderr",
     "output_type": "stream",
     "text": [
      "                                                                    \r"
     ]
    },
    {
     "name": "stdout",
     "output_type": "stream",
     "text": [
      "Epoch [4677/5000]: Train loss: 1.4541, Valid loss: 1.6350\n"
     ]
    },
    {
     "name": "stderr",
     "output_type": "stream",
     "text": [
      "                                                                    \r"
     ]
    },
    {
     "name": "stdout",
     "output_type": "stream",
     "text": [
      "Epoch [4678/5000]: Train loss: 1.4068, Valid loss: 1.3521\n"
     ]
    },
    {
     "name": "stderr",
     "output_type": "stream",
     "text": [
      "                                                                    \r"
     ]
    },
    {
     "name": "stdout",
     "output_type": "stream",
     "text": [
      "Epoch [4679/5000]: Train loss: 1.4345, Valid loss: 1.3305\n"
     ]
    },
    {
     "name": "stderr",
     "output_type": "stream",
     "text": [
      "                                                                    \r"
     ]
    },
    {
     "name": "stdout",
     "output_type": "stream",
     "text": [
      "Epoch [4680/5000]: Train loss: 1.3063, Valid loss: 1.4980\n"
     ]
    },
    {
     "name": "stderr",
     "output_type": "stream",
     "text": [
      "                                                                    \r"
     ]
    },
    {
     "name": "stdout",
     "output_type": "stream",
     "text": [
      "Epoch [4681/5000]: Train loss: 1.9812, Valid loss: 1.6843\n"
     ]
    },
    {
     "name": "stderr",
     "output_type": "stream",
     "text": [
      "                                                                    \r"
     ]
    },
    {
     "name": "stdout",
     "output_type": "stream",
     "text": [
      "Epoch [4682/5000]: Train loss: 2.0598, Valid loss: 1.9376\n"
     ]
    },
    {
     "name": "stderr",
     "output_type": "stream",
     "text": [
      "                                                                     \r"
     ]
    },
    {
     "name": "stdout",
     "output_type": "stream",
     "text": [
      "Epoch [4683/5000]: Train loss: 1.5994, Valid loss: 1.4160\n"
     ]
    },
    {
     "name": "stderr",
     "output_type": "stream",
     "text": [
      "                                                                    \r"
     ]
    },
    {
     "name": "stdout",
     "output_type": "stream",
     "text": [
      "Epoch [4684/5000]: Train loss: 1.8485, Valid loss: 3.2206\n"
     ]
    },
    {
     "name": "stderr",
     "output_type": "stream",
     "text": [
      "                                                                    \r"
     ]
    },
    {
     "name": "stdout",
     "output_type": "stream",
     "text": [
      "Epoch [4685/5000]: Train loss: 1.7255, Valid loss: 1.2415\n"
     ]
    },
    {
     "name": "stderr",
     "output_type": "stream",
     "text": [
      "                                                                    \r"
     ]
    },
    {
     "name": "stdout",
     "output_type": "stream",
     "text": [
      "Epoch [4686/5000]: Train loss: 1.6053, Valid loss: 1.6612\n"
     ]
    },
    {
     "name": "stderr",
     "output_type": "stream",
     "text": [
      "                                                                    \r"
     ]
    },
    {
     "name": "stdout",
     "output_type": "stream",
     "text": [
      "Epoch [4687/5000]: Train loss: 1.3598, Valid loss: 1.6345\n"
     ]
    },
    {
     "name": "stderr",
     "output_type": "stream",
     "text": [
      "                                                                    \r"
     ]
    },
    {
     "name": "stdout",
     "output_type": "stream",
     "text": [
      "Epoch [4688/5000]: Train loss: 1.3257, Valid loss: 1.3216\n"
     ]
    },
    {
     "name": "stderr",
     "output_type": "stream",
     "text": [
      "                                                                    \r"
     ]
    },
    {
     "name": "stdout",
     "output_type": "stream",
     "text": [
      "Epoch [4689/5000]: Train loss: 1.2867, Valid loss: 1.3477\n"
     ]
    },
    {
     "name": "stderr",
     "output_type": "stream",
     "text": [
      "                                                                    \r"
     ]
    },
    {
     "name": "stdout",
     "output_type": "stream",
     "text": [
      "Epoch [4690/5000]: Train loss: 1.3264, Valid loss: 1.7717\n"
     ]
    },
    {
     "name": "stderr",
     "output_type": "stream",
     "text": [
      "                                                                    \r"
     ]
    },
    {
     "name": "stdout",
     "output_type": "stream",
     "text": [
      "Epoch [4691/5000]: Train loss: 1.8613, Valid loss: 1.3095\n"
     ]
    },
    {
     "name": "stderr",
     "output_type": "stream",
     "text": [
      "                                                                     \r"
     ]
    },
    {
     "name": "stdout",
     "output_type": "stream",
     "text": [
      "Epoch [4692/5000]: Train loss: 1.3210, Valid loss: 1.6550\n"
     ]
    },
    {
     "name": "stderr",
     "output_type": "stream",
     "text": [
      "                                                                    \r"
     ]
    },
    {
     "name": "stdout",
     "output_type": "stream",
     "text": [
      "Epoch [4693/5000]: Train loss: 1.6943, Valid loss: 1.4712\n"
     ]
    },
    {
     "name": "stderr",
     "output_type": "stream",
     "text": [
      "                                                                    \r"
     ]
    },
    {
     "name": "stdout",
     "output_type": "stream",
     "text": [
      "Epoch [4694/5000]: Train loss: 1.4193, Valid loss: 2.1297\n"
     ]
    },
    {
     "name": "stderr",
     "output_type": "stream",
     "text": [
      "                                                                    \r"
     ]
    },
    {
     "name": "stdout",
     "output_type": "stream",
     "text": [
      "Epoch [4695/5000]: Train loss: 1.7179, Valid loss: 1.8196\n"
     ]
    },
    {
     "name": "stderr",
     "output_type": "stream",
     "text": [
      "                                                                     \r"
     ]
    },
    {
     "name": "stdout",
     "output_type": "stream",
     "text": [
      "Epoch [4696/5000]: Train loss: 1.7052, Valid loss: 1.2980\n"
     ]
    },
    {
     "name": "stderr",
     "output_type": "stream",
     "text": [
      "                                                                    \r"
     ]
    },
    {
     "name": "stdout",
     "output_type": "stream",
     "text": [
      "Epoch [4697/5000]: Train loss: 1.4097, Valid loss: 1.7543\n"
     ]
    },
    {
     "name": "stderr",
     "output_type": "stream",
     "text": [
      "                                                                    \r"
     ]
    },
    {
     "name": "stdout",
     "output_type": "stream",
     "text": [
      "Epoch [4698/5000]: Train loss: 1.4887, Valid loss: 1.5153\n"
     ]
    },
    {
     "name": "stderr",
     "output_type": "stream",
     "text": [
      "                                                                    \r"
     ]
    },
    {
     "name": "stdout",
     "output_type": "stream",
     "text": [
      "Epoch [4699/5000]: Train loss: 1.9879, Valid loss: 1.4039\n"
     ]
    },
    {
     "name": "stderr",
     "output_type": "stream",
     "text": [
      "                                                                    \r"
     ]
    },
    {
     "name": "stdout",
     "output_type": "stream",
     "text": [
      "Epoch [4700/5000]: Train loss: 1.3554, Valid loss: 1.6064\n"
     ]
    },
    {
     "name": "stderr",
     "output_type": "stream",
     "text": [
      "                                                                    \r"
     ]
    },
    {
     "name": "stdout",
     "output_type": "stream",
     "text": [
      "Epoch [4701/5000]: Train loss: 1.8437, Valid loss: 1.4812\n"
     ]
    },
    {
     "name": "stderr",
     "output_type": "stream",
     "text": [
      "                                                                    \r"
     ]
    },
    {
     "name": "stdout",
     "output_type": "stream",
     "text": [
      "Epoch [4702/5000]: Train loss: 1.3989, Valid loss: 1.2981\n"
     ]
    },
    {
     "name": "stderr",
     "output_type": "stream",
     "text": [
      "                                                                    \r"
     ]
    },
    {
     "name": "stdout",
     "output_type": "stream",
     "text": [
      "Epoch [4703/5000]: Train loss: 1.3752, Valid loss: 1.8691\n"
     ]
    },
    {
     "name": "stderr",
     "output_type": "stream",
     "text": [
      "                                                                    \r"
     ]
    },
    {
     "name": "stdout",
     "output_type": "stream",
     "text": [
      "Epoch [4704/5000]: Train loss: 1.5807, Valid loss: 3.5566\n"
     ]
    },
    {
     "name": "stderr",
     "output_type": "stream",
     "text": [
      "                                                                    \r"
     ]
    },
    {
     "name": "stdout",
     "output_type": "stream",
     "text": [
      "Epoch [4705/5000]: Train loss: 2.0397, Valid loss: 1.5002\n"
     ]
    },
    {
     "name": "stderr",
     "output_type": "stream",
     "text": [
      "                                                                    \r"
     ]
    },
    {
     "name": "stdout",
     "output_type": "stream",
     "text": [
      "Epoch [4706/5000]: Train loss: 1.9223, Valid loss: 1.3200\n"
     ]
    },
    {
     "name": "stderr",
     "output_type": "stream",
     "text": [
      "                                                                    \r"
     ]
    },
    {
     "name": "stdout",
     "output_type": "stream",
     "text": [
      "Epoch [4707/5000]: Train loss: 1.3420, Valid loss: 1.6714\n"
     ]
    },
    {
     "name": "stderr",
     "output_type": "stream",
     "text": [
      "                                                                    \r"
     ]
    },
    {
     "name": "stdout",
     "output_type": "stream",
     "text": [
      "Epoch [4708/5000]: Train loss: 1.9497, Valid loss: 2.0182\n"
     ]
    },
    {
     "name": "stderr",
     "output_type": "stream",
     "text": [
      "                                                                    \r"
     ]
    },
    {
     "name": "stdout",
     "output_type": "stream",
     "text": [
      "Epoch [4709/5000]: Train loss: 1.5624, Valid loss: 1.5837\n"
     ]
    },
    {
     "name": "stderr",
     "output_type": "stream",
     "text": [
      "                                                                    \r"
     ]
    },
    {
     "name": "stdout",
     "output_type": "stream",
     "text": [
      "Epoch [4710/5000]: Train loss: 1.4484, Valid loss: 1.4413\n"
     ]
    },
    {
     "name": "stderr",
     "output_type": "stream",
     "text": [
      "                                                                    \r"
     ]
    },
    {
     "name": "stdout",
     "output_type": "stream",
     "text": [
      "Epoch [4711/5000]: Train loss: 1.4096, Valid loss: 1.4279\n"
     ]
    },
    {
     "name": "stderr",
     "output_type": "stream",
     "text": [
      "                                                                    \r"
     ]
    },
    {
     "name": "stdout",
     "output_type": "stream",
     "text": [
      "Epoch [4712/5000]: Train loss: 1.8096, Valid loss: 1.2654\n"
     ]
    },
    {
     "name": "stderr",
     "output_type": "stream",
     "text": [
      "                                                                    \r"
     ]
    },
    {
     "name": "stdout",
     "output_type": "stream",
     "text": [
      "Epoch [4713/5000]: Train loss: 1.9416, Valid loss: 1.4743\n"
     ]
    },
    {
     "name": "stderr",
     "output_type": "stream",
     "text": [
      "                                                                    \r"
     ]
    },
    {
     "name": "stdout",
     "output_type": "stream",
     "text": [
      "Epoch [4714/5000]: Train loss: 2.0062, Valid loss: 1.7208\n"
     ]
    },
    {
     "name": "stderr",
     "output_type": "stream",
     "text": [
      "                                                                    \r"
     ]
    },
    {
     "name": "stdout",
     "output_type": "stream",
     "text": [
      "Epoch [4715/5000]: Train loss: 2.2562, Valid loss: 2.8703\n"
     ]
    },
    {
     "name": "stderr",
     "output_type": "stream",
     "text": [
      "                                                                    "
     ]
    },
    {
     "name": "stdout",
     "output_type": "stream",
     "text": [
      "Epoch [4716/5000]: Train loss: 1.5866, Valid loss: 1.4028\n"
     ]
    },
    {
     "name": "stderr",
     "output_type": "stream",
     "text": [
      "                                                                    \r"
     ]
    },
    {
     "name": "stdout",
     "output_type": "stream",
     "text": [
      "Epoch [4717/5000]: Train loss: 1.9179, Valid loss: 1.2859\n"
     ]
    },
    {
     "name": "stderr",
     "output_type": "stream",
     "text": [
      "                                                                    \r"
     ]
    },
    {
     "name": "stdout",
     "output_type": "stream",
     "text": [
      "Epoch [4718/5000]: Train loss: 1.4879, Valid loss: 1.7217\n"
     ]
    },
    {
     "name": "stderr",
     "output_type": "stream",
     "text": [
      "                                                                    \r"
     ]
    },
    {
     "name": "stdout",
     "output_type": "stream",
     "text": [
      "Epoch [4719/5000]: Train loss: 1.6693, Valid loss: 1.3852\n"
     ]
    },
    {
     "name": "stderr",
     "output_type": "stream",
     "text": [
      "                                                                    \r"
     ]
    },
    {
     "name": "stdout",
     "output_type": "stream",
     "text": [
      "Epoch [4720/5000]: Train loss: 1.7554, Valid loss: 1.7474\n"
     ]
    },
    {
     "name": "stderr",
     "output_type": "stream",
     "text": [
      "                                                                    \r"
     ]
    },
    {
     "name": "stdout",
     "output_type": "stream",
     "text": [
      "Epoch [4721/5000]: Train loss: 1.3585, Valid loss: 1.5334\n"
     ]
    },
    {
     "name": "stderr",
     "output_type": "stream",
     "text": [
      "                                                                    \r"
     ]
    },
    {
     "name": "stdout",
     "output_type": "stream",
     "text": [
      "Epoch [4722/5000]: Train loss: 1.7066, Valid loss: 2.6634\n"
     ]
    },
    {
     "name": "stderr",
     "output_type": "stream",
     "text": [
      "                                                                    \r"
     ]
    },
    {
     "name": "stdout",
     "output_type": "stream",
     "text": [
      "Epoch [4723/5000]: Train loss: 1.7448, Valid loss: 1.3477\n"
     ]
    },
    {
     "name": "stderr",
     "output_type": "stream",
     "text": [
      "                                                                    \r"
     ]
    },
    {
     "name": "stdout",
     "output_type": "stream",
     "text": [
      "Epoch [4724/5000]: Train loss: 1.3843, Valid loss: 2.2114\n"
     ]
    },
    {
     "name": "stderr",
     "output_type": "stream",
     "text": [
      "                                                                    \r"
     ]
    },
    {
     "name": "stdout",
     "output_type": "stream",
     "text": [
      "Epoch [4725/5000]: Train loss: 2.4886, Valid loss: 4.0321\n"
     ]
    },
    {
     "name": "stderr",
     "output_type": "stream",
     "text": [
      "                                                                    \r"
     ]
    },
    {
     "name": "stdout",
     "output_type": "stream",
     "text": [
      "Epoch [4726/5000]: Train loss: 2.2707, Valid loss: 1.2950\n"
     ]
    },
    {
     "name": "stderr",
     "output_type": "stream",
     "text": [
      "                                                                    \r"
     ]
    },
    {
     "name": "stdout",
     "output_type": "stream",
     "text": [
      "Epoch [4727/5000]: Train loss: 1.3228, Valid loss: 2.0362\n"
     ]
    },
    {
     "name": "stderr",
     "output_type": "stream",
     "text": [
      "                                                                     \r"
     ]
    },
    {
     "name": "stdout",
     "output_type": "stream",
     "text": [
      "Epoch [4728/5000]: Train loss: 1.5823, Valid loss: 1.3531\n"
     ]
    },
    {
     "name": "stderr",
     "output_type": "stream",
     "text": [
      "                                                                    \r"
     ]
    },
    {
     "name": "stdout",
     "output_type": "stream",
     "text": [
      "Epoch [4729/5000]: Train loss: 1.3669, Valid loss: 1.5155\n"
     ]
    },
    {
     "name": "stderr",
     "output_type": "stream",
     "text": [
      "                                                                    \r"
     ]
    },
    {
     "name": "stdout",
     "output_type": "stream",
     "text": [
      "Epoch [4730/5000]: Train loss: 1.3329, Valid loss: 1.4143\n"
     ]
    },
    {
     "name": "stderr",
     "output_type": "stream",
     "text": [
      "                                                                    \r"
     ]
    },
    {
     "name": "stdout",
     "output_type": "stream",
     "text": [
      "Epoch [4731/5000]: Train loss: 1.5042, Valid loss: 1.7560\n"
     ]
    },
    {
     "name": "stderr",
     "output_type": "stream",
     "text": [
      "                                                                    \r"
     ]
    },
    {
     "name": "stdout",
     "output_type": "stream",
     "text": [
      "Epoch [4732/5000]: Train loss: 2.1226, Valid loss: 1.3902\n"
     ]
    },
    {
     "name": "stderr",
     "output_type": "stream",
     "text": [
      "                                                                    \r"
     ]
    },
    {
     "name": "stdout",
     "output_type": "stream",
     "text": [
      "Epoch [4733/5000]: Train loss: 1.4958, Valid loss: 1.3077\n"
     ]
    },
    {
     "name": "stderr",
     "output_type": "stream",
     "text": [
      "                                                                    \r"
     ]
    },
    {
     "name": "stdout",
     "output_type": "stream",
     "text": [
      "Epoch [4734/5000]: Train loss: 1.4656, Valid loss: 1.5235\n"
     ]
    },
    {
     "name": "stderr",
     "output_type": "stream",
     "text": [
      "                                                                    \r"
     ]
    },
    {
     "name": "stdout",
     "output_type": "stream",
     "text": [
      "Epoch [4735/5000]: Train loss: 1.3179, Valid loss: 1.4212\n"
     ]
    },
    {
     "name": "stderr",
     "output_type": "stream",
     "text": [
      "                                                                    \r"
     ]
    },
    {
     "name": "stdout",
     "output_type": "stream",
     "text": [
      "Epoch [4736/5000]: Train loss: 1.3545, Valid loss: 1.2329\n"
     ]
    },
    {
     "name": "stderr",
     "output_type": "stream",
     "text": [
      "                                                                    \r"
     ]
    },
    {
     "name": "stdout",
     "output_type": "stream",
     "text": [
      "Epoch [4737/5000]: Train loss: 1.3760, Valid loss: 1.3390\n"
     ]
    },
    {
     "name": "stderr",
     "output_type": "stream",
     "text": [
      "                                                                    \r"
     ]
    },
    {
     "name": "stdout",
     "output_type": "stream",
     "text": [
      "Epoch [4738/5000]: Train loss: 1.4130, Valid loss: 1.3419\n"
     ]
    },
    {
     "name": "stderr",
     "output_type": "stream",
     "text": [
      "                                                                    \r"
     ]
    },
    {
     "name": "stdout",
     "output_type": "stream",
     "text": [
      "Epoch [4739/5000]: Train loss: 1.3154, Valid loss: 1.3406\n"
     ]
    },
    {
     "name": "stderr",
     "output_type": "stream",
     "text": [
      "                                                                    \r"
     ]
    },
    {
     "name": "stdout",
     "output_type": "stream",
     "text": [
      "Epoch [4740/5000]: Train loss: 1.3227, Valid loss: 1.4114\n"
     ]
    },
    {
     "name": "stderr",
     "output_type": "stream",
     "text": [
      "                                                                    \r"
     ]
    },
    {
     "name": "stdout",
     "output_type": "stream",
     "text": [
      "Epoch [4741/5000]: Train loss: 1.4699, Valid loss: 1.4366\n"
     ]
    },
    {
     "name": "stderr",
     "output_type": "stream",
     "text": [
      "                                                                    \r"
     ]
    },
    {
     "name": "stdout",
     "output_type": "stream",
     "text": [
      "Epoch [4742/5000]: Train loss: 1.4575, Valid loss: 2.1053\n"
     ]
    },
    {
     "name": "stderr",
     "output_type": "stream",
     "text": [
      "                                                                    \r"
     ]
    },
    {
     "name": "stdout",
     "output_type": "stream",
     "text": [
      "Epoch [4743/5000]: Train loss: 1.3789, Valid loss: 1.3790\n"
     ]
    },
    {
     "name": "stderr",
     "output_type": "stream",
     "text": [
      "                                                                    \r"
     ]
    },
    {
     "name": "stdout",
     "output_type": "stream",
     "text": [
      "Epoch [4744/5000]: Train loss: 1.6447, Valid loss: 1.4080\n"
     ]
    },
    {
     "name": "stderr",
     "output_type": "stream",
     "text": [
      "                                                                    \r"
     ]
    },
    {
     "name": "stdout",
     "output_type": "stream",
     "text": [
      "Epoch [4745/5000]: Train loss: 1.4253, Valid loss: 2.1550\n"
     ]
    },
    {
     "name": "stderr",
     "output_type": "stream",
     "text": [
      "                                                                    \r"
     ]
    },
    {
     "name": "stdout",
     "output_type": "stream",
     "text": [
      "Epoch [4746/5000]: Train loss: 1.6718, Valid loss: 1.4834\n"
     ]
    },
    {
     "name": "stderr",
     "output_type": "stream",
     "text": [
      "                                                                    \r"
     ]
    },
    {
     "name": "stdout",
     "output_type": "stream",
     "text": [
      "Epoch [4747/5000]: Train loss: 1.4105, Valid loss: 1.3164\n"
     ]
    },
    {
     "name": "stderr",
     "output_type": "stream",
     "text": [
      "                                                                    \r"
     ]
    },
    {
     "name": "stdout",
     "output_type": "stream",
     "text": [
      "Epoch [4748/5000]: Train loss: 1.3331, Valid loss: 1.3101\n"
     ]
    },
    {
     "name": "stderr",
     "output_type": "stream",
     "text": [
      "                                                                    \r"
     ]
    },
    {
     "name": "stdout",
     "output_type": "stream",
     "text": [
      "Epoch [4749/5000]: Train loss: 1.3381, Valid loss: 1.3635\n"
     ]
    },
    {
     "name": "stderr",
     "output_type": "stream",
     "text": [
      "                                                                    \r"
     ]
    },
    {
     "name": "stdout",
     "output_type": "stream",
     "text": [
      "Epoch [4750/5000]: Train loss: 1.6018, Valid loss: 2.4989\n"
     ]
    },
    {
     "name": "stderr",
     "output_type": "stream",
     "text": [
      "                                                                    \r"
     ]
    },
    {
     "name": "stdout",
     "output_type": "stream",
     "text": [
      "Epoch [4751/5000]: Train loss: 1.8045, Valid loss: 1.4134\n"
     ]
    },
    {
     "name": "stderr",
     "output_type": "stream",
     "text": [
      "                                                                    \r"
     ]
    },
    {
     "name": "stdout",
     "output_type": "stream",
     "text": [
      "Epoch [4752/5000]: Train loss: 1.4505, Valid loss: 1.3456\n"
     ]
    },
    {
     "name": "stderr",
     "output_type": "stream",
     "text": [
      "                                                                     \r"
     ]
    },
    {
     "name": "stdout",
     "output_type": "stream",
     "text": [
      "Epoch [4753/5000]: Train loss: 1.3638, Valid loss: 1.2499\n"
     ]
    },
    {
     "name": "stderr",
     "output_type": "stream",
     "text": [
      "                                                                    \r"
     ]
    },
    {
     "name": "stdout",
     "output_type": "stream",
     "text": [
      "Epoch [4754/5000]: Train loss: 1.3833, Valid loss: 2.1827\n"
     ]
    },
    {
     "name": "stderr",
     "output_type": "stream",
     "text": [
      "                                                                    \r"
     ]
    },
    {
     "name": "stdout",
     "output_type": "stream",
     "text": [
      "Epoch [4755/5000]: Train loss: 1.4838, Valid loss: 1.3205\n"
     ]
    },
    {
     "name": "stderr",
     "output_type": "stream",
     "text": [
      "                                                                    \r"
     ]
    },
    {
     "name": "stdout",
     "output_type": "stream",
     "text": [
      "Epoch [4756/5000]: Train loss: 1.3202, Valid loss: 1.5223\n"
     ]
    },
    {
     "name": "stderr",
     "output_type": "stream",
     "text": [
      "                                                                    \r"
     ]
    },
    {
     "name": "stdout",
     "output_type": "stream",
     "text": [
      "Epoch [4757/5000]: Train loss: 1.5622, Valid loss: 1.4115\n"
     ]
    },
    {
     "name": "stderr",
     "output_type": "stream",
     "text": [
      "                                                                    \r"
     ]
    },
    {
     "name": "stdout",
     "output_type": "stream",
     "text": [
      "Epoch [4758/5000]: Train loss: 1.3908, Valid loss: 1.3309\n"
     ]
    },
    {
     "name": "stderr",
     "output_type": "stream",
     "text": [
      "                                                                    \r"
     ]
    },
    {
     "name": "stdout",
     "output_type": "stream",
     "text": [
      "Epoch [4759/5000]: Train loss: 1.5613, Valid loss: 1.7572\n"
     ]
    },
    {
     "name": "stderr",
     "output_type": "stream",
     "text": [
      "                                                                    \r"
     ]
    },
    {
     "name": "stdout",
     "output_type": "stream",
     "text": [
      "Epoch [4760/5000]: Train loss: 1.4233, Valid loss: 1.4875\n"
     ]
    },
    {
     "name": "stderr",
     "output_type": "stream",
     "text": [
      "                                                                    \r"
     ]
    },
    {
     "name": "stdout",
     "output_type": "stream",
     "text": [
      "Epoch [4761/5000]: Train loss: 1.3854, Valid loss: 1.5112\n"
     ]
    },
    {
     "name": "stderr",
     "output_type": "stream",
     "text": [
      "                                                                    \r"
     ]
    },
    {
     "name": "stdout",
     "output_type": "stream",
     "text": [
      "Epoch [4762/5000]: Train loss: 1.6981, Valid loss: 1.4729\n"
     ]
    },
    {
     "name": "stderr",
     "output_type": "stream",
     "text": [
      "                                                                    \r"
     ]
    },
    {
     "name": "stdout",
     "output_type": "stream",
     "text": [
      "Epoch [4763/5000]: Train loss: 1.9278, Valid loss: 1.8552\n"
     ]
    },
    {
     "name": "stderr",
     "output_type": "stream",
     "text": [
      "                                                                    \r"
     ]
    },
    {
     "name": "stdout",
     "output_type": "stream",
     "text": [
      "Epoch [4764/5000]: Train loss: 1.8218, Valid loss: 1.6797\n"
     ]
    },
    {
     "name": "stderr",
     "output_type": "stream",
     "text": [
      "                                                                    \r"
     ]
    },
    {
     "name": "stdout",
     "output_type": "stream",
     "text": [
      "Epoch [4765/5000]: Train loss: 1.7569, Valid loss: 1.2856\n"
     ]
    },
    {
     "name": "stderr",
     "output_type": "stream",
     "text": [
      "                                                                    \r"
     ]
    },
    {
     "name": "stdout",
     "output_type": "stream",
     "text": [
      "Epoch [4766/5000]: Train loss: 1.4140, Valid loss: 1.2902\n"
     ]
    },
    {
     "name": "stderr",
     "output_type": "stream",
     "text": [
      "                                                                    \r"
     ]
    },
    {
     "name": "stdout",
     "output_type": "stream",
     "text": [
      "Epoch [4767/5000]: Train loss: 1.4594, Valid loss: 1.8700\n"
     ]
    },
    {
     "name": "stderr",
     "output_type": "stream",
     "text": [
      "                                                                    \r"
     ]
    },
    {
     "name": "stdout",
     "output_type": "stream",
     "text": [
      "Epoch [4768/5000]: Train loss: 1.8157, Valid loss: 2.7301\n"
     ]
    },
    {
     "name": "stderr",
     "output_type": "stream",
     "text": [
      "                                                                    \r"
     ]
    },
    {
     "name": "stdout",
     "output_type": "stream",
     "text": [
      "Epoch [4769/5000]: Train loss: 1.7985, Valid loss: 1.3277\n"
     ]
    },
    {
     "name": "stderr",
     "output_type": "stream",
     "text": [
      "                                                                    \r"
     ]
    },
    {
     "name": "stdout",
     "output_type": "stream",
     "text": [
      "Epoch [4770/5000]: Train loss: 1.3001, Valid loss: 1.3798\n"
     ]
    },
    {
     "name": "stderr",
     "output_type": "stream",
     "text": [
      "                                                                    \r"
     ]
    },
    {
     "name": "stdout",
     "output_type": "stream",
     "text": [
      "Epoch [4771/5000]: Train loss: 1.5811, Valid loss: 1.5271\n"
     ]
    },
    {
     "name": "stderr",
     "output_type": "stream",
     "text": [
      "                                                                    \r"
     ]
    },
    {
     "name": "stdout",
     "output_type": "stream",
     "text": [
      "Epoch [4772/5000]: Train loss: 2.1299, Valid loss: 2.6509\n"
     ]
    },
    {
     "name": "stderr",
     "output_type": "stream",
     "text": [
      "                                                                    \r"
     ]
    },
    {
     "name": "stdout",
     "output_type": "stream",
     "text": [
      "Epoch [4773/5000]: Train loss: 1.5384, Valid loss: 1.7410\n"
     ]
    },
    {
     "name": "stderr",
     "output_type": "stream",
     "text": [
      "                                                                    \r"
     ]
    },
    {
     "name": "stdout",
     "output_type": "stream",
     "text": [
      "Epoch [4774/5000]: Train loss: 1.3935, Valid loss: 1.4533\n"
     ]
    },
    {
     "name": "stderr",
     "output_type": "stream",
     "text": [
      "                                                                    \r"
     ]
    },
    {
     "name": "stdout",
     "output_type": "stream",
     "text": [
      "Epoch [4775/5000]: Train loss: 1.6683, Valid loss: 1.3349\n"
     ]
    },
    {
     "name": "stderr",
     "output_type": "stream",
     "text": [
      "                                                                    \r"
     ]
    },
    {
     "name": "stdout",
     "output_type": "stream",
     "text": [
      "Epoch [4776/5000]: Train loss: 1.5816, Valid loss: 1.2438\n"
     ]
    },
    {
     "name": "stderr",
     "output_type": "stream",
     "text": [
      "                                                                    \r"
     ]
    },
    {
     "name": "stdout",
     "output_type": "stream",
     "text": [
      "Epoch [4777/5000]: Train loss: 1.4427, Valid loss: 1.7072\n"
     ]
    },
    {
     "name": "stderr",
     "output_type": "stream",
     "text": [
      "                                                                    \r"
     ]
    },
    {
     "name": "stdout",
     "output_type": "stream",
     "text": [
      "Epoch [4778/5000]: Train loss: 1.4955, Valid loss: 1.3050\n"
     ]
    },
    {
     "name": "stderr",
     "output_type": "stream",
     "text": [
      "                                                                    \r"
     ]
    },
    {
     "name": "stdout",
     "output_type": "stream",
     "text": [
      "Epoch [4779/5000]: Train loss: 1.2957, Valid loss: 1.2825\n"
     ]
    },
    {
     "name": "stderr",
     "output_type": "stream",
     "text": [
      "                                                                    \r"
     ]
    },
    {
     "name": "stdout",
     "output_type": "stream",
     "text": [
      "Epoch [4780/5000]: Train loss: 1.4707, Valid loss: 1.5101\n"
     ]
    },
    {
     "name": "stderr",
     "output_type": "stream",
     "text": [
      "                                                                    \r"
     ]
    },
    {
     "name": "stdout",
     "output_type": "stream",
     "text": [
      "Epoch [4781/5000]: Train loss: 1.5581, Valid loss: 1.4850\n"
     ]
    },
    {
     "name": "stderr",
     "output_type": "stream",
     "text": [
      "                                                                    \r"
     ]
    },
    {
     "name": "stdout",
     "output_type": "stream",
     "text": [
      "Epoch [4782/5000]: Train loss: 1.3482, Valid loss: 2.2393\n"
     ]
    },
    {
     "name": "stderr",
     "output_type": "stream",
     "text": [
      "                                                                    \r"
     ]
    },
    {
     "name": "stdout",
     "output_type": "stream",
     "text": [
      "Epoch [4783/5000]: Train loss: 1.5689, Valid loss: 1.5406\n"
     ]
    },
    {
     "name": "stderr",
     "output_type": "stream",
     "text": [
      "                                                                    \r"
     ]
    },
    {
     "name": "stdout",
     "output_type": "stream",
     "text": [
      "Epoch [4784/5000]: Train loss: 1.2865, Valid loss: 1.3898\n"
     ]
    },
    {
     "name": "stderr",
     "output_type": "stream",
     "text": [
      "                                                                    \r"
     ]
    },
    {
     "name": "stdout",
     "output_type": "stream",
     "text": [
      "Epoch [4785/5000]: Train loss: 1.4656, Valid loss: 1.3781\n"
     ]
    },
    {
     "name": "stderr",
     "output_type": "stream",
     "text": [
      "                                                                    \r"
     ]
    },
    {
     "name": "stdout",
     "output_type": "stream",
     "text": [
      "Epoch [4786/5000]: Train loss: 1.5524, Valid loss: 2.6662\n"
     ]
    },
    {
     "name": "stderr",
     "output_type": "stream",
     "text": [
      "                                                                    \r"
     ]
    },
    {
     "name": "stdout",
     "output_type": "stream",
     "text": [
      "Epoch [4787/5000]: Train loss: 1.6572, Valid loss: 1.8996\n"
     ]
    },
    {
     "name": "stderr",
     "output_type": "stream",
     "text": [
      "                                                                    \r"
     ]
    },
    {
     "name": "stdout",
     "output_type": "stream",
     "text": [
      "Epoch [4788/5000]: Train loss: 2.0463, Valid loss: 3.7934\n"
     ]
    },
    {
     "name": "stderr",
     "output_type": "stream",
     "text": [
      "                                                                    \r"
     ]
    },
    {
     "name": "stdout",
     "output_type": "stream",
     "text": [
      "Epoch [4789/5000]: Train loss: 1.5495, Valid loss: 1.2849\n"
     ]
    },
    {
     "name": "stderr",
     "output_type": "stream",
     "text": [
      "                                                                    \r"
     ]
    },
    {
     "name": "stdout",
     "output_type": "stream",
     "text": [
      "Epoch [4790/5000]: Train loss: 1.3970, Valid loss: 1.3078\n"
     ]
    },
    {
     "name": "stderr",
     "output_type": "stream",
     "text": [
      "                                                                    \r"
     ]
    },
    {
     "name": "stdout",
     "output_type": "stream",
     "text": [
      "Epoch [4791/5000]: Train loss: 1.4687, Valid loss: 1.7436\n"
     ]
    },
    {
     "name": "stderr",
     "output_type": "stream",
     "text": [
      "                                                                    \r"
     ]
    },
    {
     "name": "stdout",
     "output_type": "stream",
     "text": [
      "Epoch [4792/5000]: Train loss: 1.5092, Valid loss: 2.6016\n"
     ]
    },
    {
     "name": "stderr",
     "output_type": "stream",
     "text": [
      "                                                                    \r"
     ]
    },
    {
     "name": "stdout",
     "output_type": "stream",
     "text": [
      "Epoch [4793/5000]: Train loss: 1.7866, Valid loss: 1.3106\n"
     ]
    },
    {
     "name": "stderr",
     "output_type": "stream",
     "text": [
      "                                                                     \r"
     ]
    },
    {
     "name": "stdout",
     "output_type": "stream",
     "text": [
      "Epoch [4794/5000]: Train loss: 1.2999, Valid loss: 1.4579\n"
     ]
    },
    {
     "name": "stderr",
     "output_type": "stream",
     "text": [
      "                                                                    \r"
     ]
    },
    {
     "name": "stdout",
     "output_type": "stream",
     "text": [
      "Epoch [4795/5000]: Train loss: 1.4232, Valid loss: 1.8216\n"
     ]
    },
    {
     "name": "stderr",
     "output_type": "stream",
     "text": [
      "                                                                    \r"
     ]
    },
    {
     "name": "stdout",
     "output_type": "stream",
     "text": [
      "Epoch [4796/5000]: Train loss: 1.4816, Valid loss: 1.3027\n"
     ]
    },
    {
     "name": "stderr",
     "output_type": "stream",
     "text": [
      "                                                                    \r"
     ]
    },
    {
     "name": "stdout",
     "output_type": "stream",
     "text": [
      "Epoch [4797/5000]: Train loss: 1.7998, Valid loss: 1.6358\n"
     ]
    },
    {
     "name": "stderr",
     "output_type": "stream",
     "text": [
      "                                                                    \r"
     ]
    },
    {
     "name": "stdout",
     "output_type": "stream",
     "text": [
      "Epoch [4798/5000]: Train loss: 1.5010, Valid loss: 1.3737\n"
     ]
    },
    {
     "name": "stderr",
     "output_type": "stream",
     "text": [
      "                                                                    \r"
     ]
    },
    {
     "name": "stdout",
     "output_type": "stream",
     "text": [
      "Epoch [4799/5000]: Train loss: 1.4877, Valid loss: 2.1558\n"
     ]
    },
    {
     "name": "stderr",
     "output_type": "stream",
     "text": [
      "                                                                    \r"
     ]
    },
    {
     "name": "stdout",
     "output_type": "stream",
     "text": [
      "Epoch [4800/5000]: Train loss: 1.5702, Valid loss: 1.4284\n"
     ]
    },
    {
     "name": "stderr",
     "output_type": "stream",
     "text": [
      "                                                                    \r"
     ]
    },
    {
     "name": "stdout",
     "output_type": "stream",
     "text": [
      "Epoch [4801/5000]: Train loss: 1.4681, Valid loss: 1.4032\n"
     ]
    },
    {
     "name": "stderr",
     "output_type": "stream",
     "text": [
      "                                                                    \r"
     ]
    },
    {
     "name": "stdout",
     "output_type": "stream",
     "text": [
      "Epoch [4802/5000]: Train loss: 1.5213, Valid loss: 1.3510\n"
     ]
    },
    {
     "name": "stderr",
     "output_type": "stream",
     "text": [
      "                                                                    \r"
     ]
    },
    {
     "name": "stdout",
     "output_type": "stream",
     "text": [
      "Epoch [4803/5000]: Train loss: 1.5142, Valid loss: 1.4797\n"
     ]
    },
    {
     "name": "stderr",
     "output_type": "stream",
     "text": [
      "                                                                    \r"
     ]
    },
    {
     "name": "stdout",
     "output_type": "stream",
     "text": [
      "Epoch [4804/5000]: Train loss: 1.7528, Valid loss: 1.3781\n"
     ]
    },
    {
     "name": "stderr",
     "output_type": "stream",
     "text": [
      "                                                                    \r"
     ]
    },
    {
     "name": "stdout",
     "output_type": "stream",
     "text": [
      "Epoch [4805/5000]: Train loss: 1.6893, Valid loss: 1.3644\n"
     ]
    },
    {
     "name": "stderr",
     "output_type": "stream",
     "text": [
      "                                                                    \r"
     ]
    },
    {
     "name": "stdout",
     "output_type": "stream",
     "text": [
      "Epoch [4806/5000]: Train loss: 1.3819, Valid loss: 1.3813\n"
     ]
    },
    {
     "name": "stderr",
     "output_type": "stream",
     "text": [
      "                                                                    \r"
     ]
    },
    {
     "name": "stdout",
     "output_type": "stream",
     "text": [
      "Epoch [4807/5000]: Train loss: 1.3506, Valid loss: 1.2882\n"
     ]
    },
    {
     "name": "stderr",
     "output_type": "stream",
     "text": [
      "                                                                    \r"
     ]
    },
    {
     "name": "stdout",
     "output_type": "stream",
     "text": [
      "Epoch [4808/5000]: Train loss: 1.4321, Valid loss: 1.4622\n"
     ]
    },
    {
     "name": "stderr",
     "output_type": "stream",
     "text": [
      "                                                                    \r"
     ]
    },
    {
     "name": "stdout",
     "output_type": "stream",
     "text": [
      "Epoch [4809/5000]: Train loss: 1.6449, Valid loss: 1.2908\n"
     ]
    },
    {
     "name": "stderr",
     "output_type": "stream",
     "text": [
      "                                                                     \r"
     ]
    },
    {
     "name": "stdout",
     "output_type": "stream",
     "text": [
      "Epoch [4810/5000]: Train loss: 1.3079, Valid loss: 1.2447\n"
     ]
    },
    {
     "name": "stderr",
     "output_type": "stream",
     "text": [
      "                                                                    \r"
     ]
    },
    {
     "name": "stdout",
     "output_type": "stream",
     "text": [
      "Epoch [4811/5000]: Train loss: 1.3310, Valid loss: 1.8784\n"
     ]
    },
    {
     "name": "stderr",
     "output_type": "stream",
     "text": [
      "                                                                    \r"
     ]
    },
    {
     "name": "stdout",
     "output_type": "stream",
     "text": [
      "Epoch [4812/5000]: Train loss: 1.6854, Valid loss: 1.7175\n"
     ]
    },
    {
     "name": "stderr",
     "output_type": "stream",
     "text": [
      "                                                                    \r"
     ]
    },
    {
     "name": "stdout",
     "output_type": "stream",
     "text": [
      "Epoch [4813/5000]: Train loss: 1.3796, Valid loss: 2.0851\n"
     ]
    },
    {
     "name": "stderr",
     "output_type": "stream",
     "text": [
      "                                                                    \r"
     ]
    },
    {
     "name": "stdout",
     "output_type": "stream",
     "text": [
      "Epoch [4814/5000]: Train loss: 2.1566, Valid loss: 2.2873\n"
     ]
    },
    {
     "name": "stderr",
     "output_type": "stream",
     "text": [
      "                                                                    \r"
     ]
    },
    {
     "name": "stdout",
     "output_type": "stream",
     "text": [
      "Epoch [4815/5000]: Train loss: 1.7234, Valid loss: 1.3260\n"
     ]
    },
    {
     "name": "stderr",
     "output_type": "stream",
     "text": [
      "                                                                    \r"
     ]
    },
    {
     "name": "stdout",
     "output_type": "stream",
     "text": [
      "Epoch [4816/5000]: Train loss: 1.3963, Valid loss: 2.6431\n"
     ]
    },
    {
     "name": "stderr",
     "output_type": "stream",
     "text": [
      "                                                                    \r"
     ]
    },
    {
     "name": "stdout",
     "output_type": "stream",
     "text": [
      "Epoch [4817/5000]: Train loss: 1.8832, Valid loss: 1.7836\n"
     ]
    },
    {
     "name": "stderr",
     "output_type": "stream",
     "text": [
      "                                                                    \r"
     ]
    },
    {
     "name": "stdout",
     "output_type": "stream",
     "text": [
      "Epoch [4818/5000]: Train loss: 1.6994, Valid loss: 1.4397\n"
     ]
    },
    {
     "name": "stderr",
     "output_type": "stream",
     "text": [
      "                                                                    \r"
     ]
    },
    {
     "name": "stdout",
     "output_type": "stream",
     "text": [
      "Epoch [4819/5000]: Train loss: 1.3025, Valid loss: 1.3721\n"
     ]
    },
    {
     "name": "stderr",
     "output_type": "stream",
     "text": [
      "                                                                    \r"
     ]
    },
    {
     "name": "stdout",
     "output_type": "stream",
     "text": [
      "Epoch [4820/5000]: Train loss: 1.3337, Valid loss: 1.5627\n"
     ]
    },
    {
     "name": "stderr",
     "output_type": "stream",
     "text": [
      "                                                                    \r"
     ]
    },
    {
     "name": "stdout",
     "output_type": "stream",
     "text": [
      "Epoch [4821/5000]: Train loss: 1.3367, Valid loss: 1.4428\n"
     ]
    },
    {
     "name": "stderr",
     "output_type": "stream",
     "text": [
      "                                                                    \r"
     ]
    },
    {
     "name": "stdout",
     "output_type": "stream",
     "text": [
      "Epoch [4822/5000]: Train loss: 1.5218, Valid loss: 1.9604\n"
     ]
    },
    {
     "name": "stderr",
     "output_type": "stream",
     "text": [
      "                                                                    \r"
     ]
    },
    {
     "name": "stdout",
     "output_type": "stream",
     "text": [
      "Epoch [4823/5000]: Train loss: 1.4000, Valid loss: 1.3536\n"
     ]
    },
    {
     "name": "stderr",
     "output_type": "stream",
     "text": [
      "                                                                    \r"
     ]
    },
    {
     "name": "stdout",
     "output_type": "stream",
     "text": [
      "Epoch [4824/5000]: Train loss: 1.3569, Valid loss: 1.3306\n"
     ]
    },
    {
     "name": "stderr",
     "output_type": "stream",
     "text": [
      "                                                                    \r"
     ]
    },
    {
     "name": "stdout",
     "output_type": "stream",
     "text": [
      "Epoch [4825/5000]: Train loss: 1.6324, Valid loss: 1.8383\n"
     ]
    },
    {
     "name": "stderr",
     "output_type": "stream",
     "text": [
      "                                                                    \r"
     ]
    },
    {
     "name": "stdout",
     "output_type": "stream",
     "text": [
      "Epoch [4826/5000]: Train loss: 1.5559, Valid loss: 2.3050\n"
     ]
    },
    {
     "name": "stderr",
     "output_type": "stream",
     "text": [
      "                                                                    \r"
     ]
    },
    {
     "name": "stdout",
     "output_type": "stream",
     "text": [
      "Epoch [4827/5000]: Train loss: 1.6182, Valid loss: 1.3036\n"
     ]
    },
    {
     "name": "stderr",
     "output_type": "stream",
     "text": [
      "                                                                    \r"
     ]
    },
    {
     "name": "stdout",
     "output_type": "stream",
     "text": [
      "Epoch [4828/5000]: Train loss: 1.5362, Valid loss: 1.4461\n"
     ]
    },
    {
     "name": "stderr",
     "output_type": "stream",
     "text": [
      "                                                                    \r"
     ]
    },
    {
     "name": "stdout",
     "output_type": "stream",
     "text": [
      "Epoch [4829/5000]: Train loss: 1.9636, Valid loss: 7.6348\n"
     ]
    },
    {
     "name": "stderr",
     "output_type": "stream",
     "text": [
      "                                                                    \r"
     ]
    },
    {
     "name": "stdout",
     "output_type": "stream",
     "text": [
      "Epoch [4830/5000]: Train loss: 2.9746, Valid loss: 6.4065\n"
     ]
    },
    {
     "name": "stderr",
     "output_type": "stream",
     "text": [
      "                                                                    \r"
     ]
    },
    {
     "name": "stdout",
     "output_type": "stream",
     "text": [
      "Epoch [4831/5000]: Train loss: 2.3511, Valid loss: 2.1928\n"
     ]
    },
    {
     "name": "stderr",
     "output_type": "stream",
     "text": [
      "                                                                    \r"
     ]
    },
    {
     "name": "stdout",
     "output_type": "stream",
     "text": [
      "Epoch [4832/5000]: Train loss: 1.4898, Valid loss: 1.3129\n"
     ]
    },
    {
     "name": "stderr",
     "output_type": "stream",
     "text": [
      "                                                                    \r"
     ]
    },
    {
     "name": "stdout",
     "output_type": "stream",
     "text": [
      "Epoch [4833/5000]: Train loss: 1.3157, Valid loss: 1.4772\n"
     ]
    },
    {
     "name": "stderr",
     "output_type": "stream",
     "text": [
      "                                                                    \r"
     ]
    },
    {
     "name": "stdout",
     "output_type": "stream",
     "text": [
      "Epoch [4834/5000]: Train loss: 1.5237, Valid loss: 1.5993\n"
     ]
    },
    {
     "name": "stderr",
     "output_type": "stream",
     "text": [
      "                                                                    \r"
     ]
    },
    {
     "name": "stdout",
     "output_type": "stream",
     "text": [
      "Epoch [4835/5000]: Train loss: 1.6280, Valid loss: 1.4334\n"
     ]
    },
    {
     "name": "stderr",
     "output_type": "stream",
     "text": [
      "                                                                    \r"
     ]
    },
    {
     "name": "stdout",
     "output_type": "stream",
     "text": [
      "Epoch [4836/5000]: Train loss: 2.0607, Valid loss: 1.6061\n"
     ]
    },
    {
     "name": "stderr",
     "output_type": "stream",
     "text": [
      "                                                                    \r"
     ]
    },
    {
     "name": "stdout",
     "output_type": "stream",
     "text": [
      "Epoch [4837/5000]: Train loss: 1.5911, Valid loss: 2.4201\n"
     ]
    },
    {
     "name": "stderr",
     "output_type": "stream",
     "text": [
      "                                                                     \r"
     ]
    },
    {
     "name": "stdout",
     "output_type": "stream",
     "text": [
      "Epoch [4838/5000]: Train loss: 1.6384, Valid loss: 1.4116\n"
     ]
    },
    {
     "name": "stderr",
     "output_type": "stream",
     "text": [
      "                                                                    \r"
     ]
    },
    {
     "name": "stdout",
     "output_type": "stream",
     "text": [
      "Epoch [4839/5000]: Train loss: 1.3357, Valid loss: 1.3234\n"
     ]
    },
    {
     "name": "stderr",
     "output_type": "stream",
     "text": [
      "                                                                    \r"
     ]
    },
    {
     "name": "stdout",
     "output_type": "stream",
     "text": [
      "Epoch [4840/5000]: Train loss: 1.3953, Valid loss: 1.3430\n"
     ]
    },
    {
     "name": "stderr",
     "output_type": "stream",
     "text": [
      "                                                                    \r"
     ]
    },
    {
     "name": "stdout",
     "output_type": "stream",
     "text": [
      "Epoch [4841/5000]: Train loss: 1.3190, Valid loss: 1.3093\n"
     ]
    },
    {
     "name": "stderr",
     "output_type": "stream",
     "text": [
      "                                                                    \r"
     ]
    },
    {
     "name": "stdout",
     "output_type": "stream",
     "text": [
      "Epoch [4842/5000]: Train loss: 1.3286, Valid loss: 1.3870\n"
     ]
    },
    {
     "name": "stderr",
     "output_type": "stream",
     "text": [
      "                                                                    \r"
     ]
    },
    {
     "name": "stdout",
     "output_type": "stream",
     "text": [
      "Epoch [4843/5000]: Train loss: 1.3209, Valid loss: 1.2316\n"
     ]
    },
    {
     "name": "stderr",
     "output_type": "stream",
     "text": [
      "                                                                    \r"
     ]
    },
    {
     "name": "stdout",
     "output_type": "stream",
     "text": [
      "Epoch [4844/5000]: Train loss: 1.3877, Valid loss: 1.8476\n"
     ]
    },
    {
     "name": "stderr",
     "output_type": "stream",
     "text": [
      "                                                                    \r"
     ]
    },
    {
     "name": "stdout",
     "output_type": "stream",
     "text": [
      "Epoch [4845/5000]: Train loss: 1.9437, Valid loss: 1.7412\n"
     ]
    },
    {
     "name": "stderr",
     "output_type": "stream",
     "text": [
      "                                                                    \r"
     ]
    },
    {
     "name": "stdout",
     "output_type": "stream",
     "text": [
      "Epoch [4846/5000]: Train loss: 1.6011, Valid loss: 1.7259\n"
     ]
    },
    {
     "name": "stderr",
     "output_type": "stream",
     "text": [
      "                                                                    \r"
     ]
    },
    {
     "name": "stdout",
     "output_type": "stream",
     "text": [
      "Epoch [4847/5000]: Train loss: 1.3754, Valid loss: 1.4046\n"
     ]
    },
    {
     "name": "stderr",
     "output_type": "stream",
     "text": [
      "                                                                    \r"
     ]
    },
    {
     "name": "stdout",
     "output_type": "stream",
     "text": [
      "Epoch [4848/5000]: Train loss: 1.5135, Valid loss: 1.4110\n"
     ]
    },
    {
     "name": "stderr",
     "output_type": "stream",
     "text": [
      "                                                                    \r"
     ]
    },
    {
     "name": "stdout",
     "output_type": "stream",
     "text": [
      "Epoch [4849/5000]: Train loss: 1.4763, Valid loss: 1.3432\n"
     ]
    },
    {
     "name": "stderr",
     "output_type": "stream",
     "text": [
      "                                                                    \r"
     ]
    },
    {
     "name": "stdout",
     "output_type": "stream",
     "text": [
      "Epoch [4850/5000]: Train loss: 1.6197, Valid loss: 1.8761\n"
     ]
    },
    {
     "name": "stderr",
     "output_type": "stream",
     "text": [
      "                                                                    \r"
     ]
    },
    {
     "name": "stdout",
     "output_type": "stream",
     "text": [
      "Epoch [4851/5000]: Train loss: 1.5685, Valid loss: 1.2802\n"
     ]
    },
    {
     "name": "stderr",
     "output_type": "stream",
     "text": [
      "                                                                    \r"
     ]
    },
    {
     "name": "stdout",
     "output_type": "stream",
     "text": [
      "Epoch [4852/5000]: Train loss: 1.5772, Valid loss: 1.7260\n"
     ]
    },
    {
     "name": "stderr",
     "output_type": "stream",
     "text": [
      "                                                                    \r"
     ]
    },
    {
     "name": "stdout",
     "output_type": "stream",
     "text": [
      "Epoch [4853/5000]: Train loss: 1.3480, Valid loss: 1.3623\n"
     ]
    },
    {
     "name": "stderr",
     "output_type": "stream",
     "text": [
      "                                                                    \r"
     ]
    },
    {
     "name": "stdout",
     "output_type": "stream",
     "text": [
      "Epoch [4854/5000]: Train loss: 2.3423, Valid loss: 1.2373\n"
     ]
    },
    {
     "name": "stderr",
     "output_type": "stream",
     "text": [
      "                                                                    \r"
     ]
    },
    {
     "name": "stdout",
     "output_type": "stream",
     "text": [
      "Epoch [4855/5000]: Train loss: 1.3785, Valid loss: 1.3073\n"
     ]
    },
    {
     "name": "stderr",
     "output_type": "stream",
     "text": [
      "                                                                    \r"
     ]
    },
    {
     "name": "stdout",
     "output_type": "stream",
     "text": [
      "Epoch [4856/5000]: Train loss: 1.7617, Valid loss: 1.4278\n"
     ]
    },
    {
     "name": "stderr",
     "output_type": "stream",
     "text": [
      "                                                                    \r"
     ]
    },
    {
     "name": "stdout",
     "output_type": "stream",
     "text": [
      "Epoch [4857/5000]: Train loss: 1.5831, Valid loss: 1.2885\n"
     ]
    },
    {
     "name": "stderr",
     "output_type": "stream",
     "text": [
      "                                                                    \r"
     ]
    },
    {
     "name": "stdout",
     "output_type": "stream",
     "text": [
      "Epoch [4858/5000]: Train loss: 1.4575, Valid loss: 1.5408\n"
     ]
    },
    {
     "name": "stderr",
     "output_type": "stream",
     "text": [
      "                                                                    \r"
     ]
    },
    {
     "name": "stdout",
     "output_type": "stream",
     "text": [
      "Epoch [4859/5000]: Train loss: 1.3160, Valid loss: 1.3052\n"
     ]
    },
    {
     "name": "stderr",
     "output_type": "stream",
     "text": [
      "                                                                    \r"
     ]
    },
    {
     "name": "stdout",
     "output_type": "stream",
     "text": [
      "Epoch [4860/5000]: Train loss: 1.3558, Valid loss: 1.2696\n"
     ]
    },
    {
     "name": "stderr",
     "output_type": "stream",
     "text": [
      "                                                                     \r"
     ]
    },
    {
     "name": "stdout",
     "output_type": "stream",
     "text": [
      "Epoch [4861/5000]: Train loss: 1.7066, Valid loss: 1.9526\n"
     ]
    },
    {
     "name": "stderr",
     "output_type": "stream",
     "text": [
      "                                                                    \r"
     ]
    },
    {
     "name": "stdout",
     "output_type": "stream",
     "text": [
      "Epoch [4862/5000]: Train loss: 1.5270, Valid loss: 1.3045\n"
     ]
    },
    {
     "name": "stderr",
     "output_type": "stream",
     "text": [
      "                                                                    \r"
     ]
    },
    {
     "name": "stdout",
     "output_type": "stream",
     "text": [
      "Epoch [4863/5000]: Train loss: 1.3504, Valid loss: 1.3169\n"
     ]
    },
    {
     "name": "stderr",
     "output_type": "stream",
     "text": [
      "                                                                    \r"
     ]
    },
    {
     "name": "stdout",
     "output_type": "stream",
     "text": [
      "Epoch [4864/5000]: Train loss: 1.3370, Valid loss: 1.3281\n"
     ]
    },
    {
     "name": "stderr",
     "output_type": "stream",
     "text": [
      "                                                                    \r"
     ]
    },
    {
     "name": "stdout",
     "output_type": "stream",
     "text": [
      "Epoch [4865/5000]: Train loss: 1.3986, Valid loss: 2.7711\n"
     ]
    },
    {
     "name": "stderr",
     "output_type": "stream",
     "text": [
      "                                                                    \r"
     ]
    },
    {
     "name": "stdout",
     "output_type": "stream",
     "text": [
      "Epoch [4866/5000]: Train loss: 2.3296, Valid loss: 1.7378\n"
     ]
    },
    {
     "name": "stderr",
     "output_type": "stream",
     "text": [
      "                                                                    \r"
     ]
    },
    {
     "name": "stdout",
     "output_type": "stream",
     "text": [
      "Epoch [4867/5000]: Train loss: 2.1129, Valid loss: 1.4299\n"
     ]
    },
    {
     "name": "stderr",
     "output_type": "stream",
     "text": [
      "                                                                    \r"
     ]
    },
    {
     "name": "stdout",
     "output_type": "stream",
     "text": [
      "Epoch [4868/5000]: Train loss: 1.6870, Valid loss: 2.0810\n"
     ]
    },
    {
     "name": "stderr",
     "output_type": "stream",
     "text": [
      "                                                                    \r"
     ]
    },
    {
     "name": "stdout",
     "output_type": "stream",
     "text": [
      "Epoch [4869/5000]: Train loss: 1.5918, Valid loss: 1.3176\n"
     ]
    },
    {
     "name": "stderr",
     "output_type": "stream",
     "text": [
      "                                                                    \r"
     ]
    },
    {
     "name": "stdout",
     "output_type": "stream",
     "text": [
      "Epoch [4870/5000]: Train loss: 1.4861, Valid loss: 1.7943\n"
     ]
    },
    {
     "name": "stderr",
     "output_type": "stream",
     "text": [
      "                                                                    \r"
     ]
    },
    {
     "name": "stdout",
     "output_type": "stream",
     "text": [
      "Epoch [4871/5000]: Train loss: 2.5413, Valid loss: 1.2637\n"
     ]
    },
    {
     "name": "stderr",
     "output_type": "stream",
     "text": [
      "                                                                    \r"
     ]
    },
    {
     "name": "stdout",
     "output_type": "stream",
     "text": [
      "Epoch [4872/5000]: Train loss: 1.5009, Valid loss: 1.3461\n",
      "\n",
      "Model is not improving, so we halt the training session.\n"
     ]
    }
   ],
   "source": [
    "def trainer(train_loader, valid_loader, model, config, device):\n",
    "    # loseFuction\n",
    "    criterion = nn.MSELoss(reduction='mean')\n",
    "    optimizer = torch.optim.SGD(model.parameters(), lr=config['learning_rate'], momentum=0.7)\n",
    "\n",
    "    writer = SummaryWriter() # Writer of tensoboard.\n",
    "\n",
    "    if not os.path.isdir('./models'):\n",
    "        os.mkdir('./models') # Create directory of saving models.\n",
    "\n",
    "    n_epochs, best_loss, step, early_stop_count = config['n_epochs'], math.inf, 0, 0\n",
    "\n",
    "    for epoch in range(n_epochs):\n",
    "        model.train()\n",
    "\n",
    "        loss_record = []\n",
    "\n",
    "        train_pbar = tqdm(train_loader, position=0, leave=True)\n",
    "\n",
    "        for x, y in train_pbar:\n",
    "            optimizer.zero_grad()\n",
    "            x, y = x.to(device), y.to(device)\n",
    "            pred = model(x)\n",
    "            loss = criterion(pred, y)\n",
    "            loss.backward()\n",
    "            optimizer.step()\n",
    "            step += 1\n",
    "\n",
    "            loss_record.append(loss.detach().item())\n",
    "\n",
    "            train_pbar.set_description(f'Epoch [{epoch+1}/{n_epochs}]')\n",
    "            train_pbar.set_postfix({'loss': loss.detach().item()})\n",
    "\n",
    "        mean_train_loss = sum(loss_record)/len(loss_record)\n",
    "        writer.add_scalar('Loss/train', mean_train_loss, step)\n",
    "\n",
    "        # Set your model to evaluation mode.\n",
    "        model.eval()\n",
    "        loss_record = []\n",
    "\n",
    "        for x, y in valid_loader:\n",
    "            x, y = x.to(device), y.to(device)\n",
    "            with torch.no_grad():\n",
    "                pred = model(x)\n",
    "                loss = criterion(pred, y)\n",
    "\n",
    "            loss_record.append(loss.item())\n",
    "\n",
    "        mean_valid_loss = sum(loss_record)/len(loss_record)\n",
    "        print(f'Epoch [{epoch+1}/{n_epochs}]: Train loss: {mean_train_loss:.4f}, Valid loss: {mean_valid_loss:.4f}')\n",
    "\n",
    "        if mean_valid_loss < best_loss:\n",
    "            best_loss = mean_valid_loss\n",
    "            torch.save(model.state_dict(), config['save_path']) # Save your best model\n",
    "            print('Saving model with loss {:.3f}...'.format(best_loss))\n",
    "            early_stop_count = 0\n",
    "        else: \n",
    "            early_stop_count += 1\n",
    "\n",
    "        if early_stop_count >= config['early_stop']:\n",
    "            print('\\nModel is not improving, so we halt the training session.')\n",
    "            return\n",
    "\n",
    "model = My_Model(input_dim=x_train.shape[1]).to(device)\n",
    "trainer(train_loader, valid_loader, model, config, device)\n"
   ]
  },
  {
   "cell_type": "markdown",
   "metadata": {},
   "source": [
    "tensorboard"
   ]
  },
  {
   "cell_type": "code",
   "execution_count": null,
   "metadata": {},
   "outputs": [],
   "source": [
    "\n",
    "%reload_ext tensorboard\n",
    "%tensorboard --logdir=./runs/"
   ]
  },
  {
   "cell_type": "markdown",
   "metadata": {},
   "source": [
    "Testing"
   ]
  },
  {
   "cell_type": "code",
   "execution_count": 31,
   "metadata": {},
   "outputs": [
    {
     "name": "stderr",
     "output_type": "stream",
     "text": [
      "100%|██████████| 4/4 [00:00<00:00, 309.89it/s]"
     ]
    },
    {
     "name": "stdout",
     "output_type": "stream",
     "text": [
      "torch.Size([256, 88])\n",
      "torch.Size([256, 88])\n",
      "torch.Size([256, 88])\n",
      "torch.Size([229, 88])\n",
      "preds old: [tensor([38.5621,  2.5433, 26.1439, 29.0616, 48.1557,  5.1093,  5.7421, 21.5147,\n",
      "         8.0090,  9.5791, 15.3837, 15.3615, 29.3582,  9.1162, 16.2119, 26.0473,\n",
      "        47.9161, 11.2454, 38.1034, 16.3968, 30.8295, 23.3543,  8.0986, 15.3800,\n",
      "        14.6043,  9.7130, 18.1604, 18.7588,  1.8766, 37.4680,  2.0473, 40.8289,\n",
      "        37.8195, 22.8845, 13.0936, 44.5287, 12.5183, 14.8727, 38.3214, 21.4980,\n",
      "         4.5633, 28.6263, 21.1655, 22.0703, 11.1800,  5.6679,  7.5470, 15.5970,\n",
      "        16.2295,  3.6894, 17.4392, 22.8185, 12.0286,  5.8452, 43.2394, 17.2700,\n",
      "        21.8091,  8.2454, 23.7013, 14.2015, 12.0533, 20.6256, 18.2986, 17.2277,\n",
      "        37.0289, 12.8241, 29.6324,  9.6024, 36.5352, 26.5353,  7.4703, 25.6813,\n",
      "        10.8000,  8.9824, 27.3009,  5.8165,  3.4075, 14.4514,  2.5283, 17.5487,\n",
      "        25.7254,  9.8080, 45.6957,  7.2063, 29.8789, 16.2325,  6.2309, 41.2405,\n",
      "        13.8458, 16.3728, 20.2577,  8.9007, 52.5694, 44.4683, 12.5026, 14.5364,\n",
      "        42.7445,  4.3764,  4.3694, 16.8563, 14.4943, 28.9817, 19.7558,  6.7038,\n",
      "        28.0908, 13.0402, 29.8106, 15.1136,  6.2926, 18.8443, 17.6189, 20.7120,\n",
      "        24.5855,  8.8808, 34.2110, 12.9915,  6.0073,  9.9147,  6.7426, 13.2496,\n",
      "        16.5873,  7.4165,  6.1086,  6.8044,  7.2417,  9.7402,  6.8543,  6.0605,\n",
      "        48.8561,  9.5100, 28.7304, 13.3688, 27.3244, 13.1359, 28.9551,  9.2865,\n",
      "        26.7345,  6.6533,  9.2418, 18.3235, 12.2253, 10.5942, 10.6651, 30.2928,\n",
      "        17.7583,  7.0983,  8.8026,  9.5409,  8.6748, 11.0971, 16.4539, 13.8117,\n",
      "        20.0726, 13.9649, 36.4066,  9.3421,  9.9376,  6.4402,  7.1955, 15.7462,\n",
      "         7.5545, 24.8738,  6.0879, 13.2072, 43.8815,  9.6209, 10.3287, 20.6340,\n",
      "        20.5879,  6.0743, 18.0420, 20.1195, 22.4680, 15.8590, 41.9317, 21.2827,\n",
      "        15.0512, 12.5173, 17.1951, 19.9303,  8.3128,  9.1195, 20.2923, 10.4575,\n",
      "        27.3277,  5.0712, 18.0061, 23.0361,  8.9302, 34.4267, 17.5121, 10.8582,\n",
      "        38.2912, 21.1026, 33.3139,  8.3500, 37.6915, 14.4824,  8.5666,  8.6913,\n",
      "         9.0631,  7.0800, 46.2922,  8.8536, 17.6435, 24.3681, 12.2074, 15.3719,\n",
      "         7.2910,  9.2883, 36.8513,  8.2629,  7.4139, 31.7233, 14.8828,  9.5337,\n",
      "        14.6146, 12.1063, 18.7071, 15.5483, 32.5023, 21.6788, 19.9086, 10.4041,\n",
      "         8.0736, 30.0905,  5.4178, 11.6555, 32.2878, 15.6056, 10.6984, 33.0968,\n",
      "        18.3323, 13.9725, 11.4596, 12.5385,  8.8195, 15.4730,  9.0275, 13.2305,\n",
      "        11.9671, 18.9999, 16.7219, 12.8832, 42.4512, 18.7013, 11.0111, 12.0599,\n",
      "         8.9179, 15.3432, 31.5120, 17.1846, 19.1305,  9.2082, 13.0483, 14.7620]), tensor([17.0146, 22.8645, 11.6496, 17.6962,  7.7456, 30.6293, 28.0810,  9.9533,\n",
      "         3.5380, 15.3838, 46.0633, 15.9954, 19.0854, 14.3026, 11.8613, 18.6234,\n",
      "        16.9549,  9.6048,  7.9560,  7.6325, 17.4154, 13.8156, 16.9474, 16.3461,\n",
      "        14.3611, 10.0968, 11.5392, 28.6798, 10.4133,  9.2657, 10.8671,  5.7542,\n",
      "        14.3698, 11.7497,  9.8520, 31.6474,  4.3871, 42.7942,  6.9296, 20.4062,\n",
      "        15.1420,  8.7109, 12.7893, 15.2364, 20.4748, 13.6918, 19.8001, 17.0428,\n",
      "        18.4062, 16.5950, 20.5509, 14.8795,  9.6055, 12.5176, 29.6991, 33.7519,\n",
      "        18.8753, 10.4505, 23.0515, 13.9724,  4.5821, 34.4073, 17.2097, 11.8663,\n",
      "        24.0465, 17.3634,  4.7978, 34.1417, 30.5683, 22.7774, 30.2365, 34.1989,\n",
      "        28.1165, 16.5226,  6.8261,  9.5678,  4.8736, 10.2697, 32.8231, 34.2024,\n",
      "         5.4448, 28.0148, 12.2092, 26.3358, 10.3056, 29.0778, 20.1565, 27.9637,\n",
      "         8.1002,  9.3665, 13.3027, 19.6786,  8.7679, 18.5624,  4.6059, 23.1402,\n",
      "         8.9736, 17.4098,  9.9946, 20.3356,  7.9175, 30.8946, 19.2680, 10.7689,\n",
      "        16.4224,  6.8775, 10.9074,  7.6148, 14.8376, 19.2300, 44.0870, 17.0249,\n",
      "         9.6319, 23.5063, 35.5779,  9.3622, 18.9976,  9.1235,  9.2910,  5.5711,\n",
      "        16.8720, 24.4111, 15.1348, 17.8506, 24.2601, 22.3407, 32.2121, 11.7682,\n",
      "        10.2154, 35.9559,  7.3047, 13.9527, 25.6590, 26.1245, 19.7719, 17.2027,\n",
      "        17.0793, 10.3717, 32.1469, 36.3574,  8.4908, 15.8538, 15.9252,  6.5985,\n",
      "        30.9009, 20.3802, 13.6860, 18.0794,  5.7456, 28.8661, 10.5544, 32.1193,\n",
      "         5.8147, 13.1289, 18.4112, 15.4260, 20.3923, 10.8990, 37.4153,  5.9540,\n",
      "         9.3531, 30.6521, 19.3377, 11.9537,  5.5245, 10.4472,  5.0303, 11.4599,\n",
      "         7.9967, 37.7340, 26.4862,  9.4888, 32.6896, 32.2719,  6.5353,  8.8426,\n",
      "        11.8063, 16.4456, 16.2146, 36.8105, 12.7185, 16.9243,  9.3946, 18.6942,\n",
      "         7.3405,  6.9259, 18.2885, 24.9026,  9.1475, 18.9458,  9.8692, 37.3788,\n",
      "        43.7500, 19.9225, 19.6003,  8.4272, 31.8298, 20.0688, 16.6329, 22.1372,\n",
      "        10.2309, 47.8611, 35.4583, 13.3416, 21.5434,  8.8037, 19.9933, 32.8225,\n",
      "        35.6350, 17.1341, 36.1329, 11.4484, 13.4022, 28.4429, 41.4605, 15.6009,\n",
      "        36.1593, 15.6329,  8.7245, 17.2591, 16.6983,  8.8946, 16.1542, 14.8349,\n",
      "         8.6356, 16.3493,  8.7820, 21.4558, 16.1169,  7.8355, 10.7141, 24.2566,\n",
      "        11.8451,  7.6659,  8.9682, 35.9380, 21.5179, 11.9467, 16.8793, 16.4248,\n",
      "         9.8952,  5.6535,  9.7051, 28.8640, 14.1975,  6.0175,  9.9657,  7.7300,\n",
      "        27.7685,  6.6618, 16.0735, 10.1990,  9.4582, 16.3538, 42.1333, 11.0729]), tensor([ 6.7453,  8.5705,  4.3580, 20.1115, 46.7832, 33.1905, 30.7943, 24.2904,\n",
      "        22.6035,  6.7970, 14.4175, 11.7663, 10.5145,  9.2539, 14.5949, 13.7472,\n",
      "         4.3861,  9.7816,  8.3980, 18.7477,  6.7610, 20.0706, 26.8840,  7.3514,\n",
      "        38.1811, 18.7713,  7.6258,  8.1318, 27.2883, 18.3403, 18.1861, 13.2990,\n",
      "        29.4065, 10.1081, 31.5073, 16.6384, 12.9227,  7.0603, 13.0613, 16.1279,\n",
      "        28.0859, 30.1918, 17.2459, 26.9111, 11.2206, 20.9490, 29.8070,  8.7380,\n",
      "        17.2427, 10.7788,  6.7003, 11.4491, 30.8268,  9.3321, 46.4885,  9.7035,\n",
      "        12.7243, 37.8188, 32.5431, 42.7392, 31.1281,  8.8724, 18.2206, 12.0738,\n",
      "        11.2246, 32.5154,  9.7092, 13.6516,  8.7066, 14.9363, 10.7843, 13.9047,\n",
      "        11.2502, 20.2120, 14.9846,  7.8179, 22.8369, 36.1804, 18.3579, 12.2767,\n",
      "         6.4792, 33.4951, 14.7489,  7.6273, 28.4973, 13.3647, 18.9577, 13.6717,\n",
      "        10.3137, 21.1428, 17.0229, 17.8715, 19.6565, 37.4923, 15.1587, 35.0856,\n",
      "        36.5614, 15.0480, 33.3538, 11.2736,  7.7057, 19.6702, 34.3752, 31.2321,\n",
      "        10.4169, 30.1795, 38.6327, 19.8620, 28.1164, 12.3045, 22.6924, 10.5563,\n",
      "         8.4788, 35.5030, 32.5062, 27.8878,  9.7710,  7.9810, 12.7356, 13.4237,\n",
      "        22.7895, 25.9787, 19.2073, 10.6297,  8.6667,  5.1649, 13.2742,  6.5928,\n",
      "        13.3702, 14.8636, 12.5437, 10.4147, 12.5106, 20.4137, 37.1375,  5.5874,\n",
      "        14.5270, 23.6328, 10.6424,  8.8607, 10.5555, 14.7730, 25.1467, 13.5268,\n",
      "        13.8351, 39.9730, 19.0361, 13.5274,  4.9285, 12.7356, 17.4705, 17.3907,\n",
      "        37.1099, 16.5377, 13.8193, 10.6041, 19.9290, 35.8930, 15.0150, 19.5237,\n",
      "        18.5468, 38.3385, 35.4885, 10.7919, 40.1385, 16.4580,  8.3879, 11.4859,\n",
      "        13.7358, 14.5998, 12.7303, 11.5314,  7.9510, 35.3997, 24.8299, 18.7696,\n",
      "        41.4566,  6.0288, 10.6179, 21.0883,  6.3967, 17.7345, 27.5758, 11.1714,\n",
      "        20.1197,  6.9502, 27.9885, 11.5154, 25.3012,  8.9977, 26.8267, 12.0341,\n",
      "        25.1202, 22.4558,  8.1614, 12.3804, 19.8434, 44.6147,  9.6861, 16.3661,\n",
      "        10.7040, 32.0153, 11.4771, 13.0712, 19.3495, 28.6630, 14.7263, 16.5529,\n",
      "        12.3978, 17.2625, 44.0547, 20.3577, 33.2518, 10.6773,  7.6835, 14.7281,\n",
      "        10.6894, 15.8694,  7.2166, 38.7554, 12.6346, 13.6127, 16.3764, 15.1822,\n",
      "        14.5732, 23.9430,  7.0919, 14.4483, 19.4718, 19.3893,  9.3624,  7.8990,\n",
      "        10.0508, 19.4088,  9.8725, 15.2042, 28.3261,  6.3432,  7.1586, 35.5337,\n",
      "        16.9431, 10.2792, 12.5606, 10.3672,  9.6676, 14.2634,  9.4260, 21.1851,\n",
      "         9.8920,  4.9520, 21.8105, 28.9555, 12.7472, 28.7675, 22.6186, 45.1302]), tensor([ 8.8000, 37.8020,  6.3040, 16.5261, 11.1470, 34.6114,  5.2397, 10.5323,\n",
      "        21.7198, 19.8917,  6.5489, 23.8565, 18.3097, 11.6224, 12.2563, 12.8846,\n",
      "         8.3077, 15.6438, 19.0971,  2.6829, 10.4780, 13.4611, 20.0039, 19.3504,\n",
      "        23.8244, 17.2827, 11.2851, 20.4585,  9.4379,  9.9956, 14.5706, 24.6549,\n",
      "         9.0824,  9.9458, 10.2316,  9.5111, 18.4961, 27.3629,  9.4225,  5.4978,\n",
      "         5.5783, 10.1955, 12.3667, 14.3059,  7.1297, 12.5609, 10.8594,  8.8214,\n",
      "         9.0204, 26.9002, 23.2054, 43.1695, 11.4568, 26.4590, 10.7628,  7.8255,\n",
      "        18.4494, 11.6993,  9.7753, 34.0051, 10.0759, 11.0666,  7.3449, 13.8765,\n",
      "        10.9428, 19.1719, 21.3908, 13.1587, 12.2010, 15.9567, 11.4501, 33.4786,\n",
      "        26.7692, 30.1875, 39.1804,  9.3061, 11.0025, 11.9146, 16.6051,  7.4421,\n",
      "        34.6504, 17.4418, 14.1742,  4.1505,  8.6044, 15.9641, 11.8673, 18.1351,\n",
      "        10.4466, 10.1569, 26.5417, 10.8803, 18.2602, 18.1866, 15.2635, 35.3565,\n",
      "        14.7887, 33.9931, 17.0146, 14.4880,  7.7989, 29.6488, 15.8104, 17.5828,\n",
      "        36.8630, 30.9738, 10.1015, 18.1963, 10.5147, 10.0863, 14.6190, 26.7797,\n",
      "        35.7423, 15.5655,  9.4144,  7.6564, 10.8255, 31.3299,  8.1638,  5.4005,\n",
      "        17.3420, 10.2096,  7.5985, 15.3540, 38.2821,  8.9903, 33.2637, 20.0818,\n",
      "        10.9438, 17.7213,  6.8891,  8.7756, 37.2668,  9.7469, 21.3348,  9.2620,\n",
      "        19.2032, 17.0873, 21.6003, 26.5365, 14.3784, 19.2253,  8.9869,  6.2456,\n",
      "        14.8809, 25.0799, 29.2729,  6.6723, 18.5108, 14.2787, 18.4745, 10.8441,\n",
      "        10.6784, 15.4949, 23.1149, 23.1790, 19.1355,  8.3806, 29.3883, 12.6586,\n",
      "        13.0901,  5.3958, 15.8623, 11.9146, 11.1940,  9.6923, 13.7585, 11.9412,\n",
      "         8.0319, 11.7913, 34.9837, 12.4416, 16.2260, 14.0514, 15.0241,  5.6342,\n",
      "        14.9610, 32.8953, 10.6973, 10.4814,  7.9475,  8.9289, 33.4223, 30.8300,\n",
      "        10.8040, 18.7891,  6.8153, 15.7637, 16.7449, 14.0254, 16.6790,  7.8090,\n",
      "        19.6452,  9.4472,  7.8323, 15.1911, 23.4609, 32.3130, 37.8116, 28.2139,\n",
      "        35.1399, 24.3354, 16.4594, 40.1625, 22.6746, 25.1691, 12.8391, 13.4372,\n",
      "         7.2458, 15.0989,  6.5870, 13.9533, 31.6262, 21.5551, 29.0050, 13.9272,\n",
      "        13.8347, 14.9205, 20.1105, 16.4961, 14.7914,  9.2174, 19.5189, 14.2548,\n",
      "        15.7141, 13.5171, 20.1113, 20.7484, 33.4138])]\n",
      "preds new: [38.562126   2.5432606 26.143948  29.061596  48.15569    5.1093483\n",
      "  5.742082  21.514732   8.0090065  9.579059  15.383704  15.361478\n",
      " 29.358202   9.116226  16.211895  26.047302  47.916126  11.245395\n",
      " 38.103405  16.396763  30.829453  23.354275   8.098611  15.379996\n",
      " 14.604333   9.713017  18.160442  18.758812   1.8766294 37.468\n",
      "  2.0473015 40.828915  37.819508  22.884499  13.093621  44.528694\n",
      " 12.518344  14.872747  38.321438  21.497982   4.5633283 28.626293\n",
      " 21.165451  22.07026   11.180037   5.6679335  7.5470257 15.597043\n",
      " 16.22945    3.6893556 17.439247  22.818516  12.02861    5.8452353\n",
      " 43.239353  17.269983  21.809141   8.245359  23.70132   14.201491\n",
      " 12.053285  20.625624  18.298567  17.227676  37.02886   12.82407\n",
      " 29.632385   9.602412  36.535233  26.535303   7.4702744 25.681305\n",
      " 10.800035   8.982423  27.300903   5.81651    3.407478  14.45144\n",
      "  2.5283437 17.54872   25.72536    9.807953  45.69573    7.2062616\n",
      " 29.878859  16.232548   6.2309036 41.240456  13.845847  16.372765\n",
      " 20.257692   8.900684  52.569374  44.46826   12.502573  14.536371\n",
      " 42.744526   4.376446   4.3694487 16.856321  14.494252  28.981749\n",
      " 19.755795   6.7038355 28.090773  13.040191  29.810604  15.113616\n",
      "  6.292551  18.84433   17.618942  20.712004  24.585487   8.880822\n",
      " 34.211018  12.99147    6.0073023  9.914746   6.742616  13.249583\n",
      " 16.587345   7.4164863  6.1086397  6.8044014  7.241686   9.740241\n",
      "  6.854291   6.0604897 48.856094   9.510025  28.730444  13.368796\n",
      " 27.324368  13.135865  28.955126   9.286529  26.73452    6.653276\n",
      "  9.241809  18.323496  12.225265  10.594186  10.665054  30.29279\n",
      " 17.758327   7.0982704  8.802575   9.540912   8.674776  11.097148\n",
      " 16.45394   13.811691  20.072638  13.964913  36.406643   9.342109\n",
      "  9.9376135  6.4401793  7.1954594 15.746162   7.554455  24.873808\n",
      "  6.0878973 13.207241  43.8815     9.620933  10.328666  20.63398\n",
      " 20.587936   6.074341  18.04198   20.119486  22.46797   15.858995\n",
      " 41.93174   21.282654  15.051217  12.5172825 17.195057  19.930332\n",
      "  8.3128     9.1195    20.292252  10.457497  27.327684   5.071187\n",
      " 18.006054  23.036055   8.930198  34.426655  17.512104  10.85822\n",
      " 38.291195  21.102566  33.313946   8.350006  37.691547  14.482429\n",
      "  8.566638   8.691346   9.06307    7.079957  46.29222    8.853642\n",
      " 17.643461  24.3681    12.207433  15.371882   7.2909737  9.288308\n",
      " 36.85127    8.26289    7.413906  31.72329   14.8827715  9.533732\n",
      " 14.614615  12.10626   18.707142  15.548313  32.502335  21.678795\n",
      " 19.908619  10.404129   8.073563  30.090504   5.417777  11.655463\n",
      " 32.287796  15.605641  10.698355  33.096836  18.332336  13.972451\n",
      " 11.45963   12.538492   8.819533  15.472958   9.027495  13.230525\n",
      " 11.967124  18.999947  16.7219    12.8832035 42.451206  18.701284\n",
      " 11.011101  12.059943   8.917869  15.343161  31.512047  17.18459\n",
      " 19.130486   9.208203  13.048335  14.762025  17.01463   22.864471\n",
      " 11.649588  17.696175   7.7455873 30.629322  28.08096    9.953328\n",
      "  3.5379677 15.383773  46.063335  15.9953575 19.085407  14.30264\n",
      " 11.861325  18.623386  16.954887   9.604783   7.955978   7.6325445\n",
      " 17.415403  13.815631  16.947435  16.346115  14.361072  10.096755\n",
      " 11.53916   28.679768  10.413326   9.265653  10.867074   5.75417\n",
      " 14.369805  11.749702   9.851982  31.647394   4.3870707 42.794193\n",
      "  6.929556  20.406235  15.142022   8.71086   12.789328  15.236415\n",
      " 20.474827  13.691779  19.800133  17.042768  18.406227  16.595015\n",
      " 20.55091   14.879485   9.6054735 12.517607  29.69913   33.751923\n",
      " 18.875343  10.450484  23.051523  13.972423   4.582094  34.407314\n",
      " 17.20967   11.866338  24.046518  17.363352   4.7978415 34.141747\n",
      " 30.568256  22.777388  30.236454  34.19887   28.116508  16.52255\n",
      "  6.82609    9.567809   4.873642  10.269735  32.82311   34.202374\n",
      "  5.444795  28.014832  12.209214  26.335838  10.30564   29.077816\n",
      " 20.156485  27.963682   8.100158   9.366521  13.302652  19.678644\n",
      "  8.767869  18.562405   4.605897  23.140207   8.973559  17.409752\n",
      "  9.994567  20.335575   7.917492  30.894566  19.268017  10.768855\n",
      " 16.422411   6.877513  10.907376   7.6147513 14.837645  19.230028\n",
      " 44.08698   17.024918   9.63188   23.506344  35.577934   9.362186\n",
      " 18.99763    9.123504   9.291042   5.571065  16.872025  24.411072\n",
      " 15.134786  17.850569  24.260054  22.340744  32.212055  11.768243\n",
      " 10.21539   35.95593    7.304724  13.952671  25.659042  26.1245\n",
      " 19.771923  17.20268   17.079298  10.371696  32.14686   36.35745\n",
      "  8.490809  15.853833  15.925169   6.5984774 30.900858  20.380161\n",
      " 13.685954  18.079418   5.7456336 28.866123  10.554418  32.11928\n",
      "  5.8146515 13.1289    18.411182  15.426026  20.392342  10.899034\n",
      " 37.415325   5.95404    9.353116  30.652143  19.337666  11.953677\n",
      "  5.524483  10.447183   5.0302672 11.459905   7.996722  37.733974\n",
      " 26.486197   9.488761  32.689594  32.2719     6.5352554  8.842574\n",
      " 11.806321  16.445572  16.214638  36.810516  12.7185335 16.924313\n",
      "  9.39461   18.69421    7.3404655  6.9258633 18.288502  24.902637\n",
      "  9.147501  18.945751   9.869239  37.378788  43.75001   19.922482\n",
      " 19.600346   8.427234  31.8298    20.068766  16.632935  22.137188\n",
      " 10.230858  47.861088  35.458347  13.341626  21.543442   8.803697\n",
      " 19.993265  32.822533  35.634953  17.134102  36.13292   11.448422\n",
      " 13.40224   28.442879  41.4605    15.60086   36.159283  15.632918\n",
      "  8.724473  17.259079  16.698315   8.894555  16.154194  14.83489\n",
      "  8.635595  16.34925    8.781955  21.455795  16.116901   7.8355055\n",
      " 10.714126  24.256552  11.845124   7.665944   8.96819   35.938004\n",
      " 21.517876  11.946684  16.879337  16.424795   9.895185   5.6534863\n",
      "  9.705077  28.86396   14.197459   6.0175123  9.965726   7.729972\n",
      " 27.768515   6.661827  16.073517  10.198961   9.45816   16.353775\n",
      " 42.133347  11.07286    6.7453117  8.570503   4.358036  20.111528\n",
      " 46.783176  33.19054   30.794262  24.29037   22.603542   6.7970085\n",
      " 14.417493  11.766289  10.51451    9.253869  14.594864  13.747247\n",
      "  4.386139   9.781624   8.398013  18.74765    6.7610235 20.070606\n",
      " 26.88403    7.3514123 38.181095  18.771292   7.6257763  8.131794\n",
      " 27.288334  18.340302  18.1861    13.298986  29.406502  10.108132\n",
      " 31.507252  16.638393  12.922744   7.060283  13.061339  16.127895\n",
      " 28.085915  30.191805  17.245907  26.9111    11.220553  20.94903\n",
      " 29.80704    8.737997  17.242664  10.778827   6.700328  11.449101\n",
      " 30.826763   9.332098  46.48847    9.703472  12.724317  37.81882\n",
      " 32.54308   42.739162  31.128134   8.872376  18.220573  12.073794\n",
      " 11.224574  32.5154     9.709167  13.651551   8.706623  14.936301\n",
      " 10.784309  13.90475   11.250217  20.212038  14.984635   7.8178644\n",
      " 22.836924  36.180428  18.357944  12.276713   6.4792404 33.49506\n",
      " 14.748862   7.627258  28.497282  13.364671  18.957651  13.671731\n",
      " 10.3137455 21.142754  17.022867  17.871489  19.656548  37.49231\n",
      " 15.158691  35.085636  36.561436  15.048008  33.353756  11.273639\n",
      "  7.705725  19.670189  34.37524   31.23207   10.416903  30.179468\n",
      " 38.632744  19.862022  28.116367  12.304461  22.692398  10.556333\n",
      "  8.47882   35.503002  32.506153  27.887836   9.77097    7.980978\n",
      " 12.7355795 13.423749  22.789486  25.978699  19.207253  10.629738\n",
      "  8.666671   5.1648917 13.274209   6.5927877 13.370159  14.863603\n",
      " 12.543714  10.4147005 12.51065   20.41374   37.137466   5.5874395\n",
      " 14.527017  23.63277   10.642404   8.860701  10.555531  14.772967\n",
      " 25.146719  13.526839  13.835135  39.973022  19.036123  13.527387\n",
      "  4.9285426 12.73558   17.470518  17.390667  37.109913  16.537653\n",
      " 13.819282  10.60415   19.929047  35.89297   15.01505   19.523659\n",
      " 18.546772  38.338474  35.488544  10.791877  40.138515  16.458017\n",
      "  8.387886  11.485869  13.735792  14.599816  12.730262  11.531447\n",
      "  7.950986  35.399693  24.829876  18.769556  41.4566     6.0288434\n",
      " 10.617853  21.088291   6.3966975 17.734543  27.57582   11.171433\n",
      " 20.11966    6.95024   27.988457  11.515429  25.301153   8.997707\n",
      " 26.826717  12.0341425 25.120176  22.455822   8.161413  12.380448\n",
      " 19.843357  44.614666   9.68607   16.366089  10.704028  32.015255\n",
      " 11.477096  13.071245  19.349503  28.662975  14.72634   16.552914\n",
      " 12.3978405 17.262482  44.054745  20.357706  33.251797  10.677324\n",
      "  7.683473  14.728108  10.689436  15.869413   7.2166033 38.755375\n",
      " 12.634555  13.612713  16.376417  15.182157  14.573169  23.94303\n",
      "  7.091861  14.448312  19.47182   19.38928    9.362396   7.8989973\n",
      " 10.050781  19.408754   9.872536  15.204212  28.326094   6.343159\n",
      "  7.1585956 35.533695  16.943077  10.279237  12.560615  10.3671875\n",
      "  9.667597  14.26344    9.425966  21.185051   9.892048   4.9520464\n",
      " 21.81047   28.955502  12.747244  28.767494  22.61856   45.130207\n",
      "  8.800012  37.80202    6.3039722 16.52615   11.146996  34.611385\n",
      "  5.2397046 10.53225   21.719849  19.891727   6.548933  23.856457\n",
      " 18.309715  11.622433  12.256326  12.884597   8.307746  15.643807\n",
      " 19.09713    2.6829407 10.478044  13.461139  20.003933  19.35041\n",
      " 23.82442   17.28272   11.285148  20.458527   9.437943   9.995591\n",
      " 14.570563  24.65485    9.082427   9.94575   10.231647   9.511098\n",
      " 18.496128  27.362885   9.422537   5.497753   5.578273  10.19555\n",
      " 12.366691  14.305884   7.1297426 12.560915  10.859382   8.821384\n",
      "  9.020434  26.90015   23.205448  43.16949   11.45683   26.459034\n",
      " 10.762848   7.8255105 18.449364  11.699303   9.775292  34.005123\n",
      " 10.075879  11.066625   7.344903  13.876517  10.942791  19.171856\n",
      " 21.390764  13.158654  12.201009  15.956656  11.450113  33.47859\n",
      " 26.769152  30.187517  39.18036    9.306109  11.002482  11.914593\n",
      " 16.605114   7.442071  34.650402  17.441849  14.174238   4.1504526\n",
      "  8.604358  15.964124  11.86727   18.135105  10.44662   10.156921\n",
      " 26.541698  10.880301  18.26023   18.18663   15.263472  35.356495\n",
      " 14.788688  33.993084  17.014551  14.488007   7.7988563 29.648844\n",
      " 15.810353  17.582756  36.862988  30.973831  10.101464  18.196331\n",
      " 10.514653  10.086289  14.619041  26.779669  35.742268  15.565492\n",
      "  9.414395   7.6563663 10.825502  31.329914   8.163756   5.4004903\n",
      " 17.342033  10.209603   7.598518  15.354047  38.282104   8.990334\n",
      " 33.263664  20.081768  10.943797  17.721298   6.8890605  8.775622\n",
      " 37.26681    9.746916  21.334835   9.262034  19.203232  17.087337\n",
      " 21.600256  26.536457  14.37844   19.22533    8.986873   6.24557\n",
      " 14.880904  25.079931  29.272877   6.67235   18.510828  14.27867\n",
      " 18.474464  10.844121  10.678399  15.494853  23.114895  23.179007\n",
      " 19.135483   8.380563  29.388323  12.658648  13.090064   5.3957767\n",
      " 15.862333  11.914617  11.193987   9.692273  13.758549  11.94122\n",
      "  8.031905  11.7913265 34.98367   12.441633  16.225979  14.051385\n",
      " 15.024066   5.634244  14.961041  32.89526   10.697273  10.481359\n",
      "  7.947536   8.928916  33.42227   30.830013  10.803975  18.78909\n",
      "  6.815348  15.763722  16.744905  14.025414  16.678993   7.808976\n",
      " 19.64523    9.447196   7.832314  15.191067  23.46094   32.31299\n",
      " 37.811554  28.213907  35.139942  24.335358  16.459377  40.162483\n",
      " 22.67456   25.169096  12.839064  13.437205   7.245786  15.098943\n",
      "  6.5869865 13.953261  31.626225  21.55511   29.004982  13.927237\n",
      " 13.834684  14.920469  20.110493  16.496105  14.791384   9.217378\n",
      " 19.518892  14.254834  15.714078  13.517083  20.111286  20.748352\n",
      " 33.413837 ]\n"
     ]
    },
    {
     "name": "stderr",
     "output_type": "stream",
     "text": [
      "\n"
     ]
    }
   ],
   "source": [
    "def predict(test_loader, model, device):\n",
    "    model.eval()\n",
    "    preds = []\n",
    "\n",
    "    for x in tqdm(test_loader):\n",
    "        print(x.shape)\n",
    "        x = x.to(device)\n",
    "        with torch.no_grad():                   \n",
    "            pred = model(x)                     \n",
    "            preds.append(pred.detach().cpu())   \n",
    "    print('preds old:', preds)\n",
    "    preds = torch.cat(preds, dim=0).numpy()  \n",
    "    return preds\n",
    "\n",
    "def save_pred(preds, file):\n",
    "    ''' Save predictions to specified file '''\n",
    "    with open(file, 'w') as fp:\n",
    "        writer = csv.writer(fp)\n",
    "        writer.writerow(['id', 'tested_positive'])\n",
    "        for i, p in enumerate(preds):\n",
    "            writer.writerow([i, p])\n",
    "\n",
    "model = My_Model(input_dim=x_train.shape[1]).to(device)\n",
    "model.load_state_dict(torch.load(config['save_path']))\n",
    "preds = predict(test_loader, model, device) \n",
    "print('preds new:', preds)\n",
    "\n",
    "save_pred(preds, 'pred.csv')"
   ]
  }
 ],
 "metadata": {
  "kernelspec": {
   "display_name": "Python 3",
   "language": "python",
   "name": "python3"
  },
  "language_info": {
   "codemirror_mode": {
    "name": "ipython",
    "version": 3
   },
   "file_extension": ".py",
   "mimetype": "text/x-python",
   "name": "python",
   "nbconvert_exporter": "python",
   "pygments_lexer": "ipython3",
   "version": "3.11.0"
  }
 },
 "nbformat": 4,
 "nbformat_minor": 2
}
